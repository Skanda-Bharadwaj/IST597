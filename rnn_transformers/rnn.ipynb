{
 "cells": [
  {
   "cell_type": "code",
   "execution_count": 2,
   "metadata": {
    "id": "rvcyRuYbP7UV"
   },
   "outputs": [],
   "source": [
    "import tensorflow as tf\n",
    "import pandas as pd\n",
    "import pickle\n",
    "import time\n",
    "import matplotlib.pyplot as plt\n",
    "%matplotlib inline\n",
    "tf.random.set_seed(1234)"
   ]
  },
  {
   "cell_type": "code",
   "execution_count": 3,
   "metadata": {
    "id": "ur6a2Sw5WJjM"
   },
   "outputs": [],
   "source": [
    "import sys\n",
    "sys.path.insert(1,'/data/')\n",
    "from data_utils import parse_imdb_sequence"
   ]
  },
  {
   "cell_type": "code",
   "execution_count": 4,
   "metadata": {
    "colab": {
     "base_uri": "https://localhost:8080/",
     "height": 281
    },
    "id": "CMNILJ0PP7UW",
    "outputId": "b0b799be-9ec1-4b51-958f-545fd292ec9b"
   },
   "outputs": [
    {
     "data": {
      "image/png": "[encoded data removed]",
      "text/plain": [
       "<Figure size 432x288 with 1 Axes>"
      ]
     },
     "metadata": {
      "needs_background": "light"
     },
     "output_type": "display_data"
    }
   ],
   "source": [
    "length_reviews = pickle.load(open('./data/length_reviews.pkl', 'rb'))\n",
    "pd.DataFrame(length_reviews, columns=['Length reviews']).hist(bins=100, color='blue');\n",
    "plt.grid(False);"
   ]
  },
  {
   "cell_type": "code",
   "execution_count": 5,
   "metadata": {
    "id": "ijVfbU9jP7UY"
   },
   "outputs": [
    {
     "name": "stderr",
     "output_type": "stream",
     "text": [
      "2022-03-29 22:21:43.774193: I tensorflow/stream_executor/cuda/cuda_gpu_executor.cc:936] successful NUMA node read from SysFS had negative value (-1), but there must be at least one NUMA node, so returning NUMA node zero\n",
      "2022-03-29 22:21:43.804910: I tensorflow/stream_executor/cuda/cuda_gpu_executor.cc:936] successful NUMA node read from SysFS had negative value (-1), but there must be at least one NUMA node, so returning NUMA node zero\n",
      "2022-03-29 22:21:43.805375: I tensorflow/stream_executor/cuda/cuda_gpu_executor.cc:936] successful NUMA node read from SysFS had negative value (-1), but there must be at least one NUMA node, so returning NUMA node zero\n",
      "2022-03-29 22:21:43.807260: I tensorflow/core/platform/cpu_feature_guard.cc:151] This TensorFlow binary is optimized with oneAPI Deep Neural Network Library (oneDNN) to use the following CPU instructions in performance-critical operations:  AVX2 FMA\n",
      "To enable them in other operations, rebuild TensorFlow with the appropriate compiler flags.\n",
      "2022-03-29 22:21:43.808803: I tensorflow/stream_executor/cuda/cuda_gpu_executor.cc:936] successful NUMA node read from SysFS had negative value (-1), but there must be at least one NUMA node, so returning NUMA node zero\n",
      "2022-03-29 22:21:43.809142: I tensorflow/stream_executor/cuda/cuda_gpu_executor.cc:936] successful NUMA node read from SysFS had negative value (-1), but there must be at least one NUMA node, so returning NUMA node zero\n",
      "2022-03-29 22:21:43.809389: I tensorflow/stream_executor/cuda/cuda_gpu_executor.cc:936] successful NUMA node read from SysFS had negative value (-1), but there must be at least one NUMA node, so returning NUMA node zero\n",
      "2022-03-29 22:21:44.359890: I tensorflow/stream_executor/cuda/cuda_gpu_executor.cc:936] successful NUMA node read from SysFS had negative value (-1), but there must be at least one NUMA node, so returning NUMA node zero\n",
      "2022-03-29 22:21:44.360197: I tensorflow/stream_executor/cuda/cuda_gpu_executor.cc:936] successful NUMA node read from SysFS had negative value (-1), but there must be at least one NUMA node, so returning NUMA node zero\n",
      "2022-03-29 22:21:44.360634: I tensorflow/stream_executor/cuda/cuda_gpu_executor.cc:936] successful NUMA node read from SysFS had negative value (-1), but there must be at least one NUMA node, so returning NUMA node zero\n",
      "2022-03-29 22:21:44.361242: I tensorflow/core/common_runtime/gpu/gpu_device.cc:1525] Created device /job:localhost/replica:0/task:0/device:GPU:0 with 7008 MB memory:  -> device: 0, name: NVIDIA GeForce GTX 1070, pci bus id: 0000:01:00.0, compute capability: 6.1\n"
     ]
    },
    {
     "name": "stdout",
     "output_type": "stream",
     "text": [
      "25000\n",
      "20000\n",
      "5000\n",
      "25000\n"
     ]
    }
   ],
   "source": [
    "full_dataset  = tf.data.TFRecordDataset('./data/train.tfrecords')\n",
    "full_dataset  = full_dataset.shuffle(buffer_size=10000)\n",
    "\n",
    "DATASET_SIZE  = sum(1 for _ in full_dataset)\n",
    "print(DATASET_SIZE)\n",
    "\n",
    "train_size = int(0.8 * DATASET_SIZE)\n",
    "val_size   = int(0.2 * DATASET_SIZE)\n",
    "\n",
    "train_dataset = full_dataset.take(train_size)\n",
    "val_dataset   = full_dataset.take(val_size)\n",
    "\n",
    "train_dataset_size  = sum(1 for _ in train_dataset)\n",
    "print(train_dataset_size)\n",
    "\n",
    "val_dataset_size  = sum(1 for _ in val_dataset)\n",
    "print(val_dataset_size)\n",
    "\n",
    "train_dataset = train_dataset.map(parse_imdb_sequence).shuffle(buffer_size=10000)\n",
    "train_dataset = train_dataset.padded_batch(512, padded_shapes=([None],[],[]))\n",
    "\n",
    "val_dataset = val_dataset.map(parse_imdb_sequence).shuffle(buffer_size=10000)\n",
    "val_dataset = val_dataset.padded_batch(128, padded_shapes=([None],[],[]))\n",
    "\n",
    "test_dataset = tf.data.TFRecordDataset('./data/test.tfrecords')\n",
    "DATASET_SIZE  = sum(1 for _ in test_dataset)\n",
    "print(DATASET_SIZE)\n",
    "test_dataset = test_dataset.map(parse_imdb_sequence).shuffle(buffer_size=10000)\n",
    "test_dataset = test_dataset.padded_batch(512, padded_shapes=([None],[],[]))"
   ]
  },
  {
   "cell_type": "code",
   "execution_count": null,
   "metadata": {
    "id": "-0boPqdDP7UY"
   },
   "outputs": [],
   "source": [
    "# Read the word vocabulary\n",
    "word2idx = pickle.load(open('./data/word2idx.pkl', 'rb'))"
   ]
  },
  {
   "cell_type": "code",
   "execution_count": null,
   "metadata": {
    "id": "iUoWg4BSP7UY"
   },
   "outputs": [],
   "source": [
    "class RNNModel(tf.keras.Model):\n",
    "    def __init__(self, embedding_size=100, cell_size=64, dense_size=128, \n",
    "                 num_classes=2, vocabulary_size=None, rnn_cell='lstm',\n",
    "                 device='cpu:0', checkpoint_directory=None):\n",
    "        ''' Define the parameterized layers used during forward-pass, the device\n",
    "            where you would like to run the computation on and the checkpoint\n",
    "            directory. Additionaly, you can also modify the default size of the \n",
    "            network.\n",
    "            \n",
    "            Args:\n",
    "                embedding_size: the size of the word embedding.\n",
    "                cell_size: RNN cell size.\n",
    "                dense_size: the size of the dense layer.\n",
    "                num_classes: the number of labels in the network.\n",
    "                vocabulary_size: the size of the word vocabulary.\n",
    "                rnn_cell: string, either 'lstm' or 'ugrnn'.\n",
    "                device: string, 'cpu:n' or 'gpu:n' (n can vary). Default, 'cpu:0'.\n",
    "                checkpoint_directory: the directory where you would like to save or \n",
    "                                      restore a model.\n",
    "        '''\n",
    "        super(RNNModel, self).__init__()\n",
    "        \n",
    "        # Weights initializer function\n",
    "        w_initializer = tf.compat.v1.keras.initializers.glorot_uniform()\n",
    "    \n",
    "        # Biases initializer function\n",
    "        b_initializer = tf.zeros_initializer()\n",
    "        \n",
    "        # Initialize weights for word embeddings \n",
    "        self.embeddings = tf.keras.layers.Embedding(vocabulary_size, embedding_size, \n",
    "                                                    embeddings_initializer=w_initializer)\n",
    "        \n",
    "        # Dense layer initialization\n",
    "        self.dense_layer = tf.keras.layers.Dense(dense_size, activation=tf.nn.relu, \n",
    "                                                 kernel_initializer=w_initializer, \n",
    "                                                 bias_initializer=b_initializer)\n",
    "        \n",
    "        # Predictions layer initialization\n",
    "        self.pred_layer = tf.keras.layers.Dense(num_classes, activation=None, \n",
    "                                                kernel_initializer=w_initializer, \n",
    "                                                bias_initializer=b_initializer)\n",
    "        \n",
    "        # Basic LSTM cell\n",
    "        if rnn_cell=='lstm':\n",
    "            self.rnn_cell = tf.compat.v1.nn.rnn_cell.BasicLSTMCell(cell_size)\n",
    "        # Else RNN cell\n",
    "        else:\n",
    "            self.rnn_cell = tf.compat.v1.nn.rnn_cell.BasicRNNCell(cell_size)\n",
    "            \n",
    "        # Define the device \n",
    "        self.device = device\n",
    "        \n",
    "        # Define the checkpoint directory\n",
    "        self.checkpoint_directory = checkpoint_directory\n",
    "        \n",
    "    def predict(self, X, seq_length, is_training):\n",
    "        '''\n",
    "        Predicts the probability of each class, based on the input sample.\n",
    "\n",
    "        Args:\n",
    "            X: 2D tensor of shape (batch_size, time_steps).\n",
    "            seq_length: the length of each sequence in the batch.\n",
    "            is_training: Boolean. Either the network is predicting in\n",
    "                         training mode or not.\n",
    "        '''\n",
    "        \n",
    "        # Get the number of samples within a batch\n",
    "        num_samples = tf.shape(X)[0]\n",
    "\n",
    "        # Initialize LSTM cell state with zeros\n",
    "        state = self.rnn_cell.zero_state(num_samples, dtype=tf.float32)\n",
    "        \n",
    "        # Get the embedding of each word in the sequence\n",
    "        embedded_words = self.embeddings(X)\n",
    "        \n",
    "        # Unstack the embeddings\n",
    "        unstacked_embeddings = tf.unstack(embedded_words, axis=1)\n",
    "        \n",
    "        # Iterate through each timestep and append the predictions\n",
    "        outputs = []\n",
    "        for input_step in unstacked_embeddings:\n",
    "            output, state = self.rnn_cell(input_step, state)\n",
    "            outputs.append(output)\n",
    "            \n",
    "        # Stack outputs to (batch_size, time_steps, cell_size)\n",
    "        outputs = tf.stack(outputs, axis=1)\n",
    "        \n",
    "        # Extract the output of the last time step, of each sample\n",
    "        idxs_last_output = tf.stack([tf.range(num_samples), \n",
    "                                     tf.cast(seq_length-1, tf.int32)], axis=1)\n",
    "        final_output = tf.gather_nd(outputs, idxs_last_output)\n",
    "        \n",
    "        # Add dropout for regularization\n",
    "        #dropped_output = tf.compat.v1.layers.Dropout(final_output, rate=0.3, training=is_training)\n",
    "        \n",
    "        # Pass the last cell state through a dense layer (ReLU activation)\n",
    "        dense = self.dense_layer(final_output)\n",
    "        \n",
    "        # Compute the unnormalized log probabilities\n",
    "        logits = self.pred_layer(dense)\n",
    "        return logits\n",
    "    \n",
    "    def loss_fn(self, X, y, seq_length, is_training):\n",
    "        \"\"\" Defines the loss function used during \n",
    "            training.         \n",
    "        \"\"\"\n",
    "        preds = self.predict(X, seq_length, is_training)\n",
    "        loss = tf.nn.sparse_softmax_cross_entropy_with_logits(labels=y, logits=preds)\n",
    "        return loss\n",
    "    \n",
    "    def grads_fn(self, X, y, seq_length, is_training):\n",
    "        \"\"\" Dynamically computes the gradients of the loss value\n",
    "            with respect to the parameters of the model, in each\n",
    "            forward pass.\n",
    "        \"\"\"\n",
    "        with tf.GradientTape() as tape:\n",
    "            loss = self.loss_fn(X, y, seq_length, is_training)\n",
    "        return tape.gradient(loss, self.variables)\n",
    "    \n",
    "    def restore_model(self):\n",
    "        \"\"\" Function to restore trained model.\n",
    "        \"\"\"\n",
    "        with tf.device(self.device):\n",
    "            # Run the model once to initialize variables\n",
    "            dummy_input = tf.constant(tf.zeros((1,1)))\n",
    "            dummy_length = tf.constant(1, shape=(1,))\n",
    "            dummy_pred = self.predict(dummy_input, dummy_length, False)\n",
    "            # Restore the variables of the model\n",
    "            saver = tf.compat.v1.train.Saver(self.variables)\n",
    "            saver.restore(tf.train.latest_checkpoint\n",
    "                          (self.checkpoint_directory))\n",
    "    \n",
    "    def save_model(self, global_step=0):\n",
    "        \"\"\" Function to save trained model.\n",
    "        \"\"\"\n",
    "        tf.compat.v1.train.Saver(self.variables).save(save_path=self.checkpoint_directory, \n",
    "                                       global_step=global_step)   \n",
    "        \n",
    "    def fit(self, training_data, eval_data, test_data, optimizer, num_epochs=500, \n",
    "            early_stopping_rounds=10, verbose=10, train_from_scratch=False):\n",
    "        \"\"\" Function to train the model, using the selected optimizer and\n",
    "            for the desired number of epochs. You can either train from scratch\n",
    "            or load the latest model trained. Early stopping is used in order to\n",
    "            mitigate the risk of overfitting the network.\n",
    "            \n",
    "            Args:\n",
    "                training_data: the data you would like to train the model on.\n",
    "                                Must be in the tf.data.Dataset format.\n",
    "                eval_data: the data you would like to evaluate the model on.\n",
    "                            Must be in the tf.data.Dataset format.\n",
    "                optimizer: the optimizer used during training.\n",
    "                num_epochs: the maximum number of iterations you would like to \n",
    "                            train the model.\n",
    "                early_stopping_rounds: stop training if the accuracy on the eval \n",
    "                                       dataset does not increase after n epochs.\n",
    "                verbose: int. Specify how often to print the loss value of the network.\n",
    "                train_from_scratch: boolean. Whether to initialize variables of the\n",
    "                                    the last trained model or initialize them\n",
    "                                    randomly.\n",
    "        \"\"\" \n",
    "    \n",
    "        if train_from_scratch==False:\n",
    "            self.restore_model()\n",
    "        \n",
    "        # Initialize best_acc. This variable will store the highest accuracy\n",
    "        # on the eval dataset.\n",
    "        best_acc = 0\n",
    "        \n",
    "        # Initialize classes to update the mean accuracy of train and eval\n",
    "        train_acc = tf.keras.metrics.Accuracy('train_acc')\n",
    "        eval_acc = tf.keras.metrics.Accuracy('eval_acc')\n",
    "        test_acc = tf.keras.metrics.Accuracy('test_acc')\n",
    "        # Initialize dictionary to store the accuracy history\n",
    "        self.history = {}\n",
    "        self.history['train_acc'] = []\n",
    "        self.history['eval_acc'] = []\n",
    "        self.history['test_acc'] = []\n",
    "        \n",
    "        # Begin training\n",
    "        with tf.device(self.device):\n",
    "            for i in range(num_epochs):\n",
    "                # Training with gradient descent\n",
    "                for step, (X, y, seq_length) in enumerate(training_data):\n",
    "                    grads = self.grads_fn(X, y, seq_length, True)\n",
    "                    optimizer.apply_gradients(zip(grads, self.variables))\n",
    "                    \n",
    "                # Check accuracy train dataset\n",
    "                for step, (X, y, seq_length) in enumerate(training_data):\n",
    "                    logits = self.predict(X, seq_length, False)\n",
    "                    preds = tf.argmax(logits, axis=1)\n",
    "                    train_acc(preds, y)\n",
    "                self.history['train_acc'].append(train_acc.result().numpy())\n",
    "                # Reset metrics\n",
    "                train_acc.reset_states()\n",
    "\n",
    "                # Check accuracy eval dataset\n",
    "                for step, (X, y, seq_length) in enumerate(eval_data):\n",
    "                    logits = self.predict(X, seq_length, False)\n",
    "                    preds = tf.argmax(logits, axis=1)\n",
    "                    eval_acc(preds, y)\n",
    "                self.history['eval_acc'].append(eval_acc.result().numpy())\n",
    "                # Reset metrics\n",
    "                eval_acc.reset_states()\n",
    "                \n",
    "                # Print train and eval accuracy\n",
    "                if (i==0) | ((i+1)%verbose==0):\n",
    "                    print('Train accuracy at epoch %d: ' %(i+1), self.history['train_acc'][-1])\n",
    "                    print('Eval accuracy at epoch %d: ' %(i+1), self.history['eval_acc'][-1])\n",
    "\n",
    "                # Check for early stopping\n",
    "                if self.history['eval_acc'][-1]>best_acc:\n",
    "                    best_acc = self.history['eval_acc'][-1]\n",
    "                    count = early_stopping_rounds\n",
    "                else:\n",
    "                    count -= 1\n",
    "                if count==0:\n",
    "                    break\n",
    "                    \n",
    "            for step, (X, y, seq_length) in enumerate(test_data):\n",
    "                logits = self.predict(X, seq_length, False)\n",
    "                preds = tf.argmax(logits, axis=1)\n",
    "                test_acc(preds, y)\n",
    "            self.history['test_acc'].append(test_acc.result().numpy())\n",
    "            print('Test accuracy: ', self.history['test_acc'][-1])"
   ]
  },
  {
   "cell_type": "code",
   "execution_count": null,
   "metadata": {
    "colab": {
     "base_uri": "https://localhost:8080/"
    },
    "id": "uqk_DJZ3P7Ua",
    "outputId": "0bbf017d-8a62-476a-f6e6-5689046895df"
   },
   "outputs": [
    {
     "name": "stdout",
     "output_type": "stream",
     "text": [
      "WARNING:tensorflow:<keras.layers.legacy_rnn.rnn_cell_impl.BasicLSTMCell object at 0x7f84304a3820>: Note that this cell is not optimized for performance. Please use tf.contrib.cudnn_rnn.CudnnLSTM for better performance on GPU.\n"
     ]
    },
    {
     "name": "stderr",
     "output_type": "stream",
     "text": [
      "/tmp/ipykernel_24286/2071740490.py:45: UserWarning: `tf.nn.rnn_cell.BasicLSTMCell` is deprecated and will be removed in a future version. This class is equivalent as `tf.keras.layers.LSTMCell`, and will be replaced by that in Tensorflow 2.0.\n",
      "  self.rnn_cell = tf.compat.v1.nn.rnn_cell.BasicLSTMCell(cell_size)\n",
      "/home/skanda/Softwares/miniconda3/lib/python3.9/site-packages/keras/layers/legacy_rnn/rnn_cell_impl.py:754: UserWarning: `layer.add_variable` is deprecated and will be removed in a future version. Please use `layer.add_weight` method instead.\n",
      "  self._kernel = self.add_variable(\n",
      "/home/skanda/Softwares/miniconda3/lib/python3.9/site-packages/keras/layers/legacy_rnn/rnn_cell_impl.py:757: UserWarning: `layer.add_variable` is deprecated and will be removed in a future version. Please use `layer.add_weight` method instead.\n",
      "  self._bias = self.add_variable(\n"
     ]
    },
    {
     "name": "stdout",
     "output_type": "stream",
     "text": [
      "Train accuracy at epoch 1:  0.49895\n",
      "Eval accuracy at epoch 1:  0.4926\n",
      "Train accuracy at epoch 2:  0.5035\n",
      "Eval accuracy at epoch 2:  0.5038\n",
      "Train accuracy at epoch 3:  0.4996\n",
      "Eval accuracy at epoch 3:  0.501\n",
      "Train accuracy at epoch 4:  0.50225\n",
      "Eval accuracy at epoch 4:  0.503\n",
      "Train accuracy at epoch 5:  0.49955\n",
      "Eval accuracy at epoch 5:  0.5058\n",
      "Train accuracy at epoch 6:  0.5007\n",
      "Eval accuracy at epoch 6:  0.507\n",
      "Train accuracy at epoch 7:  0.5014\n",
      "Eval accuracy at epoch 7:  0.4922\n",
      "Train accuracy at epoch 8:  0.49865\n",
      "Eval accuracy at epoch 8:  0.5036\n"
     ]
    }
   ],
   "source": [
    "# Specify the path where you want to save/restore the trained variables.\n",
    "checkpoint_directory = './models_checkpoints/ImdbRNN1/'\n",
    "\n",
    "# Use the GPU if available.\n",
    "device = 'gpu:0'\n",
    "\n",
    "# Define optimizer.\n",
    "optimizer = tf.compat.v1.train.GradientDescentOptimizer(learning_rate=1e-1)\n",
    "\n",
    "# Instantiate model. This doesn't initialize the variables yet.\n",
    "lstm_model1 = RNNModel(vocabulary_size=len(word2idx), device=device, \n",
    "                      checkpoint_directory=checkpoint_directory)\n",
    "\n",
    "# Train model\n",
    "time_start = time.time()\n",
    "lstm_model1.fit(train_dataset, val_dataset, test_dataset, optimizer, num_epochs=20, \n",
    "                early_stopping_rounds=5, verbose=1, train_from_scratch=True)\n",
    "time_taken = time.time() - time_start\n",
    "print('\\nTotal time taken (in seconds): {:.2f}'.format(time_taken))\n",
    "\n",
    "#lstm_model.save_model()\n",
    "checkpoint = tf.train.Checkpoint(lstm_model1)\n",
    "save_path = checkpoint.save(checkpoint_directory)\n",
    "\n",
    "##############################################################################################################\n",
    "\n",
    "# Define optimizer.\n",
    "optimizer = tf.compat.v1.train.GradientDescentOptimizer(learning_rate=1e-1)\n",
    "\n",
    "# Instantiate model. This doesn't initialize the variables yet.\n",
    "ugrnn_model1 = RNNModel(vocabulary_size=len(word2idx), rnn_cell='ugrnn', \n",
    "                       device=device, checkpoint_directory=checkpoint_directory)\n",
    "\n",
    "# Train model\n",
    "time_start = time.time()\n",
    "ugrnn_model1.fit(train_dataset,  val_dataset, test_dataset, optimizer, num_epochs=20, \n",
    "                early_stopping_rounds=5, verbose=1, train_from_scratch=True)\n",
    "\n",
    "time_taken = time.time() - time_start\n",
    "print('\\nTotal time taken (in seconds): {:.2f}'.format(time_taken))\n",
    "\n",
    "#lstm_model.save_model()\n",
    "checkpoint = tf.train.Checkpoint(ugrnn_model1)\n",
    "save_path = checkpoint.save(checkpoint_directory)\n",
    "\n",
    "##############################################################################################################\n",
    "\n",
    "f, (ax1, ax2) = plt.subplots(1, 2, sharey=True, figsize=(10, 4))\n",
    "ax1.plot(range(len(lstm_model1.history['train_acc'])), lstm_model1.history['train_acc'], \n",
    "         label='LSTM Train Accuracy');\n",
    "ax1.plot(range(len(lstm_model1.history['eval_acc'])), lstm_model1.history['eval_acc'], \n",
    "         label='LSTM Test Accuracy');\n",
    "ax2.plot(range(len(ugrnn_model1.history['train_acc'])), ugrnn_model1.history['train_acc'],\n",
    "         label='UGRNN Train Accuracy');\n",
    "ax2.plot(range(len(ugrnn_model1.history['eval_acc'])), ugrnn_model1.history['eval_acc'],\n",
    "         label='UGRNN Test Accuracy');\n",
    "ax1.legend();\n",
    "ax2.legend();\n"
   ]
  },
  {
   "cell_type": "code",
   "execution_count": 15,
   "metadata": {
    "colab": {
     "background_save": true,
     "base_uri": "https://localhost:8080/"
    },
    "id": "IXvPU8_gP7Ua",
    "outputId": "a6914d6b-eb69-4461-e382-b3099949cc33"
   },
   "outputs": [
    {
     "name": "stdout",
     "output_type": "stream",
     "text": [
      "WARNING:tensorflow:<keras.layers.legacy_rnn.rnn_cell_impl.BasicLSTMCell object at 0x7fa4ac5931f0>: Note that this cell is not optimized for performance. Please use tf.contrib.cudnn_rnn.CudnnLSTM for better performance on GPU.\n"
     ]
    },
    {
     "name": "stderr",
     "output_type": "stream",
     "text": [
      "/tmp/ipykernel_13455/2071740490.py:45: UserWarning: `tf.nn.rnn_cell.BasicLSTMCell` is deprecated and will be removed in a future version. This class is equivalent as `tf.keras.layers.LSTMCell`, and will be replaced by that in Tensorflow 2.0.\n",
      "  self.rnn_cell = tf.compat.v1.nn.rnn_cell.BasicLSTMCell(cell_size)\n"
     ]
    },
    {
     "name": "stdout",
     "output_type": "stream",
     "text": [
      "Train accuracy at epoch 1:  0.5166\n",
      "Eval accuracy at epoch 1:  0.5198\n",
      "Train accuracy at epoch 2:  0.55795\n",
      "Eval accuracy at epoch 2:  0.55\n",
      "Train accuracy at epoch 3:  0.58275\n",
      "Eval accuracy at epoch 3:  0.5778\n",
      "Train accuracy at epoch 4:  0.57965\n",
      "Eval accuracy at epoch 4:  0.5814\n",
      "Train accuracy at epoch 5:  0.63445\n",
      "Eval accuracy at epoch 5:  0.6206\n",
      "Train accuracy at epoch 6:  0.65475\n",
      "Eval accuracy at epoch 6:  0.6626\n",
      "Train accuracy at epoch 7:  0.6957\n",
      "Eval accuracy at epoch 7:  0.6844\n",
      "Train accuracy at epoch 8:  0.7013\n",
      "Eval accuracy at epoch 8:  0.7026\n",
      "Train accuracy at epoch 9:  0.72165\n",
      "Eval accuracy at epoch 9:  0.7226\n",
      "Train accuracy at epoch 10:  0.7182\n",
      "Eval accuracy at epoch 10:  0.7154\n",
      "Train accuracy at epoch 11:  0.75535\n",
      "Eval accuracy at epoch 11:  0.7522\n",
      "Train accuracy at epoch 12:  0.76385\n",
      "Eval accuracy at epoch 12:  0.7674\n",
      "Train accuracy at epoch 13:  0.81245\n",
      "Eval accuracy at epoch 13:  0.811\n",
      "Train accuracy at epoch 14:  0.8077\n",
      "Eval accuracy at epoch 14:  0.8044\n",
      "Train accuracy at epoch 15:  0.8263\n",
      "Eval accuracy at epoch 15:  0.827\n",
      "Train accuracy at epoch 16:  0.83185\n",
      "Eval accuracy at epoch 16:  0.8406\n",
      "Train accuracy at epoch 17:  0.8386\n",
      "Eval accuracy at epoch 17:  0.845\n",
      "Train accuracy at epoch 18:  0.8391\n",
      "Eval accuracy at epoch 18:  0.846\n",
      "Train accuracy at epoch 19:  0.84565\n",
      "Eval accuracy at epoch 19:  0.8492\n",
      "Train accuracy at epoch 20:  0.84115\n",
      "Eval accuracy at epoch 20:  0.8418\n",
      "Test accuracy:  0.77632\n",
      "\n",
      "Total time taken (in seconds): 1247.96\n",
      "WARNING:tensorflow:<keras.layers.legacy_rnn.rnn_cell_impl.BasicRNNCell object at 0x7fa4ac499e50>: Note that this cell is not optimized for performance. Please use tf.contrib.cudnn_rnn.CudnnRNNTanh for better performance on GPU.\n"
     ]
    },
    {
     "name": "stderr",
     "output_type": "stream",
     "text": [
      "/tmp/ipykernel_13455/2071740490.py:48: UserWarning: `tf.nn.rnn_cell.BasicRNNCell` is deprecated and will be removed in a future version. This class is equivalent as `tf.keras.layers.SimpleRNNCell`, and will be replaced by that in Tensorflow 2.0.\n",
      "  self.rnn_cell = tf.compat.v1.nn.rnn_cell.BasicRNNCell(cell_size)\n"
     ]
    },
    {
     "name": "stdout",
     "output_type": "stream",
     "text": [
      "Train accuracy at epoch 1:  0.5468\n",
      "Eval accuracy at epoch 1:  0.5454\n",
      "Train accuracy at epoch 2:  0.58975\n",
      "Eval accuracy at epoch 2:  0.5882\n",
      "Train accuracy at epoch 3:  0.60935\n",
      "Eval accuracy at epoch 3:  0.6098\n",
      "Train accuracy at epoch 4:  0.6563\n",
      "Eval accuracy at epoch 4:  0.6592\n",
      "Train accuracy at epoch 5:  0.75595\n",
      "Eval accuracy at epoch 5:  0.7584\n",
      "Train accuracy at epoch 6:  0.76295\n",
      "Eval accuracy at epoch 6:  0.7648\n",
      "Train accuracy at epoch 7:  0.7844\n",
      "Eval accuracy at epoch 7:  0.7902\n",
      "Train accuracy at epoch 8:  0.79905\n",
      "Eval accuracy at epoch 8:  0.8112\n",
      "Train accuracy at epoch 9:  0.8097\n",
      "Eval accuracy at epoch 9:  0.808\n",
      "Train accuracy at epoch 10:  0.8049\n",
      "Eval accuracy at epoch 10:  0.8102\n",
      "Train accuracy at epoch 11:  0.82035\n",
      "Eval accuracy at epoch 11:  0.8254\n",
      "Train accuracy at epoch 12:  0.82385\n",
      "Eval accuracy at epoch 12:  0.8344\n",
      "Train accuracy at epoch 13:  0.8309\n",
      "Eval accuracy at epoch 13:  0.8352\n",
      "Train accuracy at epoch 14:  0.82495\n",
      "Eval accuracy at epoch 14:  0.8246\n",
      "Train accuracy at epoch 15:  0.83985\n",
      "Eval accuracy at epoch 15:  0.8466\n",
      "Train accuracy at epoch 16:  0.84455\n",
      "Eval accuracy at epoch 16:  0.843\n",
      "Train accuracy at epoch 17:  0.84625\n",
      "Eval accuracy at epoch 17:  0.8454\n",
      "Train accuracy at epoch 18:  0.8478\n",
      "Eval accuracy at epoch 18:  0.8508\n",
      "Train accuracy at epoch 19:  0.8583\n",
      "Eval accuracy at epoch 19:  0.857\n",
      "Train accuracy at epoch 20:  0.8581\n",
      "Eval accuracy at epoch 20:  0.8606\n",
      "Test accuracy:  0.75948\n",
      "\n",
      "Total time taken (in seconds): 597.76\n"
     ]
    },
    {
     "data": {
      "image/png": "[encoded data removed]",
      "text/plain": [
       "<Figure size 720x288 with 2 Axes>"
      ]
     },
     "metadata": {
      "needs_background": "light"
     },
     "output_type": "display_data"
    }
   ],
   "source": [
    "# Specify the path where you want to save/restore the trained variables.\n",
    "checkpoint_directory = 'models_checkpoints/ImdbRNN2/'\n",
    "\n",
    "# Use the GPU if available.\n",
    "device = 'gpu:0'\n",
    "\n",
    "# Define optimizer.\n",
    "optimizer = tf.compat.v1.train.AdamOptimizer(learning_rate=1e-5)\n",
    "\n",
    "# Instantiate model. This doesn't initialize the variables yet.\n",
    "lstm_model2 = RNNModel(vocabulary_size=len(word2idx), device=device, \n",
    "                      checkpoint_directory=checkpoint_directory)\n",
    "\n",
    "# Train model\n",
    "time_start = time.time()\n",
    "lstm_model2.fit(train_dataset, val_dataset, test_dataset, optimizer, num_epochs=20, \n",
    "                early_stopping_rounds=5, verbose=1, train_from_scratch=True)\n",
    "\n",
    "time_taken = time.time() - time_start\n",
    "print('\\nTotal time taken (in seconds): {:.2f}'.format(time_taken))\n",
    "\n",
    "#lstm_model.save_model()\n",
    "checkpoint = tf.train.Checkpoint(lstm_model2)\n",
    "save_path = checkpoint.save(checkpoint_directory)\n",
    "\n",
    "\n",
    "##############################################################################################################\n",
    "\n",
    "# Define optimizer.\n",
    "optimizer = tf.compat.v1.train.AdamOptimizer(learning_rate=1e-5)\n",
    "\n",
    "# Instantiate model. This doesn't initialize the variables yet.\n",
    "ugrnn_model2 = RNNModel(vocabulary_size=len(word2idx), rnn_cell='ugrnn', \n",
    "                       device=device, checkpoint_directory=checkpoint_directory)\n",
    "\n",
    "# Train model\n",
    "time_start = time.time()\n",
    "ugrnn_model2.fit(train_dataset,  val_dataset, test_dataset, optimizer, num_epochs=20, \n",
    "                early_stopping_rounds=5, verbose=1, train_from_scratch=True)\n",
    "\n",
    "time_taken = time.time() - time_start\n",
    "print('\\nTotal time taken (in seconds): {:.2f}'.format(time_taken))\n",
    "\n",
    "#lstm_model.save_model()\n",
    "checkpoint = tf.train.Checkpoint(ugrnn_model2)\n",
    "save_path = checkpoint.save(checkpoint_directory)\n",
    "\n",
    "f, (ax1, ax2) = plt.subplots(1, 2, sharey=True, figsize=(10, 4))\n",
    "ax1.plot(range(len(lstm_model2.history['train_acc'])), lstm_model2.history['train_acc'], \n",
    "         label='LSTM Train Accuracy');\n",
    "ax1.plot(range(len(lstm_model2.history['eval_acc'])), lstm_model2.history['eval_acc'], \n",
    "         label='LSTM Test Accuracy');\n",
    "ax2.plot(range(len(ugrnn_model2.history['train_acc'])), ugrnn_model2.history['train_acc'],\n",
    "         label='UGRNN Train Accuracy');\n",
    "ax2.plot(range(len(ugrnn_model2.history['eval_acc'])), ugrnn_model2.history['eval_acc'],\n",
    "         label='UGRNN Test Accuracy');\n",
    "ax1.legend();\n",
    "ax2.legend();"
   ]
  },
  {
   "cell_type": "code",
   "execution_count": 16,
   "metadata": {
    "id": "_EjYsfyvBaOG"
   },
   "outputs": [
    {
     "name": "stdout",
     "output_type": "stream",
     "text": [
      "WARNING:tensorflow:<keras.layers.legacy_rnn.rnn_cell_impl.BasicLSTMCell object at 0x7fa4cfe089a0>: Note that this cell is not optimized for performance. Please use tf.contrib.cudnn_rnn.CudnnLSTM for better performance on GPU.\n"
     ]
    },
    {
     "name": "stderr",
     "output_type": "stream",
     "text": [
      "/tmp/ipykernel_13455/2071740490.py:45: UserWarning: `tf.nn.rnn_cell.BasicLSTMCell` is deprecated and will be removed in a future version. This class is equivalent as `tf.keras.layers.LSTMCell`, and will be replaced by that in Tensorflow 2.0.\n",
      "  self.rnn_cell = tf.compat.v1.nn.rnn_cell.BasicLSTMCell(cell_size)\n"
     ]
    },
    {
     "name": "stdout",
     "output_type": "stream",
     "text": [
      "Train accuracy at epoch 1:  0.51105\n",
      "Eval accuracy at epoch 1:  0.5094\n",
      "Train accuracy at epoch 2:  0.51825\n",
      "Eval accuracy at epoch 2:  0.5256\n",
      "Train accuracy at epoch 3:  0.51855\n",
      "Eval accuracy at epoch 3:  0.5188\n",
      "Train accuracy at epoch 4:  0.52415\n",
      "Eval accuracy at epoch 4:  0.5188\n",
      "Train accuracy at epoch 5:  0.5225\n",
      "Eval accuracy at epoch 5:  0.5286\n",
      "Train accuracy at epoch 6:  0.51995\n",
      "Eval accuracy at epoch 6:  0.5186\n",
      "Train accuracy at epoch 7:  0.525\n",
      "Eval accuracy at epoch 7:  0.5312\n",
      "Train accuracy at epoch 8:  0.5167\n",
      "Eval accuracy at epoch 8:  0.512\n",
      "Train accuracy at epoch 9:  0.52745\n",
      "Eval accuracy at epoch 9:  0.5248\n",
      "Train accuracy at epoch 10:  0.52435\n",
      "Eval accuracy at epoch 10:  0.5152\n",
      "Train accuracy at epoch 11:  0.53085\n",
      "Eval accuracy at epoch 11:  0.5254\n",
      "Train accuracy at epoch 12:  0.49815\n",
      "Eval accuracy at epoch 12:  0.4926\n",
      "Test accuracy:  0.5\n",
      "\n",
      "Total time taken (in seconds): 733.28\n",
      "WARNING:tensorflow:<keras.layers.legacy_rnn.rnn_cell_impl.BasicRNNCell object at 0x7fa4642ef430>: Note that this cell is not optimized for performance. Please use tf.contrib.cudnn_rnn.CudnnRNNTanh for better performance on GPU.\n"
     ]
    },
    {
     "name": "stderr",
     "output_type": "stream",
     "text": [
      "/tmp/ipykernel_13455/2071740490.py:48: UserWarning: `tf.nn.rnn_cell.BasicRNNCell` is deprecated and will be removed in a future version. This class is equivalent as `tf.keras.layers.SimpleRNNCell`, and will be replaced by that in Tensorflow 2.0.\n",
      "  self.rnn_cell = tf.compat.v1.nn.rnn_cell.BasicRNNCell(cell_size)\n"
     ]
    },
    {
     "name": "stdout",
     "output_type": "stream",
     "text": [
      "Train accuracy at epoch 1:  0.4983\n",
      "Eval accuracy at epoch 1:  0.4986\n",
      "Train accuracy at epoch 2:  0.5089\n",
      "Eval accuracy at epoch 2:  0.5114\n",
      "Train accuracy at epoch 3:  0.51245\n",
      "Eval accuracy at epoch 3:  0.5136\n",
      "Train accuracy at epoch 4:  0.5192\n",
      "Eval accuracy at epoch 4:  0.53\n",
      "Train accuracy at epoch 5:  0.52125\n",
      "Eval accuracy at epoch 5:  0.5122\n",
      "Train accuracy at epoch 6:  0.52775\n",
      "Eval accuracy at epoch 6:  0.534\n",
      "Train accuracy at epoch 7:  0.5277\n",
      "Eval accuracy at epoch 7:  0.5268\n",
      "Train accuracy at epoch 8:  0.526\n",
      "Eval accuracy at epoch 8:  0.5234\n",
      "Train accuracy at epoch 9:  0.5278\n",
      "Eval accuracy at epoch 9:  0.5326\n",
      "Train accuracy at epoch 10:  0.52705\n",
      "Eval accuracy at epoch 10:  0.524\n",
      "Train accuracy at epoch 11:  0.52985\n",
      "Eval accuracy at epoch 11:  0.5288\n",
      "Test accuracy:  0.52632\n",
      "\n",
      "Total time taken (in seconds): 332.00\n"
     ]
    },
    {
     "data": {
      "image/png": "[encoded data removed]",
      "text/plain": [
       "<Figure size 720x288 with 2 Axes>"
      ]
     },
     "metadata": {
      "needs_background": "light"
     },
     "output_type": "display_data"
    }
   ],
   "source": [
    "# Specify the path where you want to save/restore the trained variables.\n",
    "checkpoint_directory = './models_checkpoints/ImdbRNN3/'\n",
    "\n",
    "# Use the GPU if available.\n",
    "device = 'gpu:0'\n",
    "\n",
    "# Define optimizer.\n",
    "optimizer = tf.compat.v1.train.GradientDescentOptimizer(learning_rate=1e-5)\n",
    "\n",
    "# Instantiate model. This doesn't initialize the variables yet.\n",
    "lstm_model3 = RNNModel(vocabulary_size=len(word2idx), device=device, \n",
    "                      checkpoint_directory=checkpoint_directory)\n",
    "\n",
    "# Train model\n",
    "time_start = time.time()\n",
    "lstm_model3.fit(train_dataset, val_dataset, test_dataset, optimizer, num_epochs=20, \n",
    "                early_stopping_rounds=5, verbose=1, train_from_scratch=True)\n",
    "\n",
    "time_taken = time.time() - time_start\n",
    "print('\\nTotal time taken (in seconds): {:.2f}'.format(time_taken))\n",
    "\n",
    "#lstm_model.save_model()\n",
    "checkpoint = tf.train.Checkpoint(lstm_model3)\n",
    "save_path = checkpoint.save(checkpoint_directory)\n",
    "\n",
    "##############################################################################################################\n",
    "\n",
    "# Define optimizer.\n",
    "optimizer = tf.compat.v1.train.GradientDescentOptimizer(learning_rate=1e-5)\n",
    "\n",
    "# Instantiate model. This doesn't initialize the variables yet.\n",
    "ugrnn_model3 = RNNModel(vocabulary_size=len(word2idx), rnn_cell='ugrnn', \n",
    "                       device=device, checkpoint_directory=checkpoint_directory)\n",
    "\n",
    "# Train model\n",
    "time_start = time.time()\n",
    "ugrnn_model3.fit(train_dataset,  val_dataset, test_dataset, optimizer, num_epochs=20, \n",
    "                early_stopping_rounds=5, verbose=1, train_from_scratch=True)\n",
    "\n",
    "time_taken = time.time() - time_start\n",
    "print('\\nTotal time taken (in seconds): {:.2f}'.format(time_taken))\n",
    "\n",
    "#lstm_model.save_model()\n",
    "checkpoint = tf.train.Checkpoint(ugrnn_model3)\n",
    "save_path = checkpoint.save(checkpoint_directory)\n",
    "\n",
    "##############################################################################################################\n",
    "\n",
    "f, (ax1, ax2) = plt.subplots(1, 2, sharey=True, figsize=(10, 4))\n",
    "ax1.plot(range(len(lstm_model3.history['train_acc'])), lstm_model3.history['train_acc'], \n",
    "         label='LSTM Train Accuracy');\n",
    "ax1.plot(range(len(lstm_model3.history['eval_acc'])), lstm_model3.history['eval_acc'], \n",
    "         label='LSTM Test Accuracy');\n",
    "ax2.plot(range(len(ugrnn_model3.history['train_acc'])), ugrnn_model3.history['train_acc'],\n",
    "         label='UGRNN Train Accuracy');\n",
    "ax2.plot(range(len(ugrnn_model3.history['eval_acc'])), ugrnn_model3.history['eval_acc'],\n",
    "         label='UGRNN Test Accuracy');\n",
    "ax1.legend();\n",
    "ax2.legend();\n"
   ]
  },
  {
   "cell_type": "code",
   "execution_count": 17,
   "metadata": {},
   "outputs": [
    {
     "name": "stdout",
     "output_type": "stream",
     "text": [
      "WARNING:tensorflow:<keras.layers.legacy_rnn.rnn_cell_impl.BasicLSTMCell object at 0x7fa4ac578ac0>: Note that this cell is not optimized for performance. Please use tf.contrib.cudnn_rnn.CudnnLSTM for better performance on GPU.\n"
     ]
    },
    {
     "name": "stderr",
     "output_type": "stream",
     "text": [
      "/tmp/ipykernel_13455/2071740490.py:45: UserWarning: `tf.nn.rnn_cell.BasicLSTMCell` is deprecated and will be removed in a future version. This class is equivalent as `tf.keras.layers.LSTMCell`, and will be replaced by that in Tensorflow 2.0.\n",
      "  self.rnn_cell = tf.compat.v1.nn.rnn_cell.BasicLSTMCell(cell_size)\n"
     ]
    },
    {
     "name": "stdout",
     "output_type": "stream",
     "text": [
      "Train accuracy at epoch 1:  0.4996\n",
      "Eval accuracy at epoch 1:  0.49\n",
      "Train accuracy at epoch 2:  0.50045\n",
      "Eval accuracy at epoch 2:  0.5\n",
      "Train accuracy at epoch 3:  0.498\n",
      "Eval accuracy at epoch 3:  0.5076\n",
      "Train accuracy at epoch 4:  0.50125\n",
      "Eval accuracy at epoch 4:  0.5052\n",
      "Train accuracy at epoch 5:  0.49925\n",
      "Eval accuracy at epoch 5:  0.5006\n",
      "Train accuracy at epoch 6:  0.5001\n",
      "Eval accuracy at epoch 6:  0.4998\n",
      "Train accuracy at epoch 7:  0.50225\n",
      "Eval accuracy at epoch 7:  0.495\n",
      "Train accuracy at epoch 8:  0.4968\n",
      "Eval accuracy at epoch 8:  0.4924\n",
      "Test accuracy:  0.5\n",
      "\n",
      "Total time taken (in seconds): 505.24\n",
      "WARNING:tensorflow:<keras.layers.legacy_rnn.rnn_cell_impl.BasicRNNCell object at 0x7fa4ac3bec40>: Note that this cell is not optimized for performance. Please use tf.contrib.cudnn_rnn.CudnnRNNTanh for better performance on GPU.\n"
     ]
    },
    {
     "name": "stderr",
     "output_type": "stream",
     "text": [
      "/tmp/ipykernel_13455/2071740490.py:48: UserWarning: `tf.nn.rnn_cell.BasicRNNCell` is deprecated and will be removed in a future version. This class is equivalent as `tf.keras.layers.SimpleRNNCell`, and will be replaced by that in Tensorflow 2.0.\n",
      "  self.rnn_cell = tf.compat.v1.nn.rnn_cell.BasicRNNCell(cell_size)\n"
     ]
    },
    {
     "name": "stdout",
     "output_type": "stream",
     "text": [
      "Train accuracy at epoch 1:  0.49895\n",
      "Eval accuracy at epoch 1:  0.494\n",
      "Train accuracy at epoch 2:  0.5002\n",
      "Eval accuracy at epoch 2:  0.5086\n",
      "Train accuracy at epoch 3:  0.4999\n",
      "Eval accuracy at epoch 3:  0.4986\n",
      "Train accuracy at epoch 4:  0.4994\n",
      "Eval accuracy at epoch 4:  0.5048\n",
      "Train accuracy at epoch 5:  0.50105\n",
      "Eval accuracy at epoch 5:  0.493\n",
      "Train accuracy at epoch 6:  0.50125\n",
      "Eval accuracy at epoch 6:  0.4974\n",
      "Train accuracy at epoch 7:  0.4999\n",
      "Eval accuracy at epoch 7:  0.5038\n",
      "Test accuracy:  0.5\n",
      "\n",
      "Total time taken (in seconds): 215.59\n"
     ]
    },
    {
     "data": {
      "image/png": "[encoded data removed]",
      "text/plain": [
       "<Figure size 720x288 with 2 Axes>"
      ]
     },
     "metadata": {
      "needs_background": "light"
     },
     "output_type": "display_data"
    }
   ],
   "source": [
    "# Specify the path where you want to save/restore the trained variables.\n",
    "checkpoint_directory = './models_checkpoints/ImdbRNN4/'\n",
    "\n",
    "# Use the GPU if available.\n",
    "device = 'gpu:0'\n",
    "\n",
    "# Define optimizer.\n",
    "optimizer = tf.compat.v1.train.GradientDescentOptimizer(learning_rate=1e-2)\n",
    "\n",
    "# Instantiate model. This doesn't initialize the variables yet.\n",
    "lstm_model4 = RNNModel(vocabulary_size=len(word2idx), device=device, \n",
    "                      checkpoint_directory=checkpoint_directory)\n",
    "\n",
    "# Train model\n",
    "time_start = time.time()\n",
    "lstm_model4.fit(train_dataset, val_dataset, test_dataset, optimizer, num_epochs=20, \n",
    "                early_stopping_rounds=5, verbose=1, train_from_scratch=True)\n",
    "\n",
    "time_taken = time.time() - time_start\n",
    "print('\\nTotal time taken (in seconds): {:.2f}'.format(time_taken))\n",
    "\n",
    "#lstm_model.save_model()\n",
    "checkpoint = tf.train.Checkpoint(lstm_model4)\n",
    "save_path = checkpoint.save(checkpoint_directory)\n",
    "\n",
    "##############################################################################################################\n",
    "\n",
    "# Define optimizer.\n",
    "optimizer = tf.compat.v1.train.GradientDescentOptimizer(learning_rate=1e-2)\n",
    "\n",
    "# Instantiate model. This doesn't initialize the variables yet.\n",
    "ugrnn_model4 = RNNModel(vocabulary_size=len(word2idx), rnn_cell='ugrnn', \n",
    "                       device=device, checkpoint_directory=checkpoint_directory)\n",
    "\n",
    "# Train model\n",
    "time_start = time.time()\n",
    "ugrnn_model4.fit(train_dataset,  val_dataset, test_dataset, optimizer, num_epochs=20, \n",
    "                early_stopping_rounds=5, verbose=1, train_from_scratch=True)\n",
    "\n",
    "\n",
    "time_taken = time.time() - time_start\n",
    "print('\\nTotal time taken (in seconds): {:.2f}'.format(time_taken))\n",
    "\n",
    "#lstm_model.save_model()\n",
    "checkpoint = tf.train.Checkpoint(ugrnn_model4)\n",
    "save_path = checkpoint.save(checkpoint_directory)\n",
    "\n",
    "##############################################################################################################\n",
    "\n",
    "f, (ax1, ax2) = plt.subplots(1, 2, sharey=True, figsize=(10, 4))\n",
    "ax1.plot(range(len(lstm_model4.history['train_acc'])), lstm_model4.history['train_acc'], \n",
    "         label='LSTM Train Accuracy');\n",
    "ax1.plot(range(len(lstm_model4.history['eval_acc'])), lstm_model4.history['eval_acc'], \n",
    "         label='LSTM Test Accuracy');\n",
    "ax2.plot(range(len(ugrnn_model4.history['train_acc'])), ugrnn_model4.history['train_acc'],\n",
    "         label='UGRNN Train Accuracy');\n",
    "ax2.plot(range(len(ugrnn_model4.history['eval_acc'])), ugrnn_model4.history['eval_acc'],\n",
    "         label='UGRNN Test Accuracy');\n",
    "ax1.legend();\n",
    "ax2.legend();"
   ]
  },
  {
   "cell_type": "code",
   "execution_count": null,
   "metadata": {
    "colab": {
     "base_uri": "https://localhost:8080/"
    },
    "id": "TmjyKjDYP7Ub",
    "outputId": "2b522e81-8023-435b-f4d3-682cb0ad0ec0"
   },
   "outputs": [],
   "source": []
  },
  {
   "cell_type": "code",
   "execution_count": 18,
   "metadata": {
    "id": "nXSOpyz0P7Uc"
   },
   "outputs": [],
   "source": [
    "###############################################################\n",
    "# Import/download necessary libraries to process new sequences\n",
    "###############################################################\n",
    "import nltk\n",
    "try:\n",
    "    nltk.data.find('tokenizers/punkt')\n",
    "except LookupError:\n",
    "    nltk.download('punkt')\n",
    "from nltk.tokenize import word_tokenize\n",
    "import re"
   ]
  },
  {
   "cell_type": "code",
   "execution_count": 19,
   "metadata": {
    "id": "5zDt0vVlP7Uc"
   },
   "outputs": [],
   "source": [
    "def process_new_review(review):\n",
    "    '''Function to process a new review.\n",
    "       Args:\n",
    "           review: original text review, string.\n",
    "       Returns:\n",
    "           indexed_review: sequence of integers, words correspondence \n",
    "                           from word2idx.\n",
    "           seq_length: the length of the review.\n",
    "    '''\n",
    "    indexed_review = re.sub(r'<[^>]+>', ' ', review)\n",
    "    indexed_review = word_tokenize(indexed_review)\n",
    "    indexed_review = [word2idx[word] if word in list(word2idx.keys()) else \n",
    "                      word2idx['Unknown_token'] for word in indexed_review]\n",
    "    indexed_review = indexed_review + [word2idx['End_token']]\n",
    "    seq_length = len(indexed_review)    \n",
    "    return indexed_review, seq_length"
   ]
  },
  {
   "cell_type": "code",
   "execution_count": 20,
   "metadata": {
    "id": "8ZmRTbHCP7Uc"
   },
   "outputs": [],
   "source": [
    "sent_dict = {0: 'negative', 1: 'positive'}"
   ]
  },
  {
   "cell_type": "code",
   "execution_count": 21,
   "metadata": {
    "id": "lo8W4xfdP7Uc"
   },
   "outputs": [],
   "source": [
    "review_score_10 = \"I think Bad Apples is a great time and I recommend! I enjoyed the opening, which gave way for the rest of the movie to occur. The main couple was very likable and I believed all of their interactions. They had great onscreen chemistry and made me laugh quite a few times! Keeping the girls in the masks but seeing them in action was something I loved. It kept a mystery to them throughout. I think the dialogue was great. The kills were fun. And the special surprise gore effect at the end was AWESOME!! I won't spoil that part ;) I also enjoyed how the movie wrapped up. It gave a very urban legends type feel of \\\"did you ever hear the story...\\\". Plus is leaves the door open for another film which I wouldn't mind at all. Long story short, I think if you take the film for what it is; a fun little horror flick, then you won't be disappointed! HaPpY eArLy HaLLoWeEn!\""
   ]
  },
  {
   "cell_type": "code",
   "execution_count": 22,
   "metadata": {
    "id": "jL2PWrzPP7Uc"
   },
   "outputs": [],
   "source": [
    "review_score_4 = \"A young couple comes to a small town, where the husband get a job working in a hospital. The wife which you instantly hate or dislike works home, at the same time a horrible murders takes place in this small town by two masked killers. Bad Apples is just your tipical B-horror movie with average acting (I give them that. Altough you may get the idea that some of the actors are crazy-convervative Christians), but the script is just bad, and that's what destroys the film.\""
   ]
  },
  {
   "cell_type": "code",
   "execution_count": 23,
   "metadata": {
    "id": "dGJG7F6kP7Uc"
   },
   "outputs": [],
   "source": [
    "review_score_1 = \"When you first start watching this movie, you can tell its going to be a painful ride. the audio is poor...the attacks by the \\\"girls\\\" are like going back in time, to watching the old rocky films, were blows never touched. the editing is poor with it aswell, example the actress in is the bath when her husband comes home, clearly you see her wearing a flesh coloured bra in the bath. no hints or spoilers, just wait till you find it in a bargain basket of cheap dvds in a couple of weeks\""
   ]
  },
  {
   "cell_type": "code",
   "execution_count": 24,
   "metadata": {
    "id": "M-hrh4LCP7Ud"
   },
   "outputs": [],
   "source": [
    "new_reviews = [review_score_10, review_score_4, review_score_1]\n",
    "scores = [10, 4, 1]"
   ]
  },
  {
   "cell_type": "code",
   "execution_count": 25,
   "metadata": {
    "colab": {
     "base_uri": "https://localhost:8080/"
    },
    "id": "OvVuzgTwP7Ud",
    "outputId": "940bd62f-69e8-49de-c71f-c4de5628a946"
   },
   "outputs": [
    {
     "name": "stdout",
     "output_type": "stream",
     "text": [
      "The sentiment for the review with score 10 was found to be positive\n",
      "The sentiment for the review with score 4 was found to be negative\n",
      "The sentiment for the review with score 1 was found to be negative\n"
     ]
    }
   ],
   "source": [
    "with tf.device(device):\n",
    "    for original_review, score in zip(new_reviews, scores):\n",
    "        indexed_review, seq_length = process_new_review(original_review)\n",
    "        indexed_review = tf.reshape(tf.constant(indexed_review), (1,-1))\n",
    "        seq_length = tf.reshape(tf.constant(seq_length), (1,))\n",
    "        logits = lstm_model1.predict(indexed_review, seq_length, False)\n",
    "        pred = tf.argmax(logits, axis=1).numpy()[0]\n",
    "        print('The sentiment for the review with score %d was found to be %s'\n",
    "              %(score, sent_dict[pred]))"
   ]
  }
 ],
 "metadata": {
  "accelerator": "GPU",
  "colab": {
   "name": "IST597_SP22_RNN.ipynb",
   "provenance": []
  },
  "kernelspec": {
   "display_name": "Python 3 (ipykernel)",
   "language": "python",
   "name": "python3"
  },
  "language_info": {
   "codemirror_mode": {
    "name": "ipython",
    "version": 3
   },
   "file_extension": ".py",
   "mimetype": "text/x-python",
   "name": "python",
   "nbconvert_exporter": "python",
   "pygments_lexer": "ipython3",
   "version": "3.9.5"
  }
 },
 "nbformat": 4,
 "nbformat_minor": 4
}
