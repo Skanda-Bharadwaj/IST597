{
 "cells": [
  {
   "cell_type": "code",
   "execution_count": 7,
   "id": "b6fb523b-6162-4646-bdb5-dee96e2f0d07",
   "metadata": {},
   "outputs": [],
   "source": [
    "import os\n",
    "import numpy as np\n",
    "import time\n",
    "import tensorflow as tf\n",
    "\n",
    "np.random.seed(1234)\n",
    "tf.random.set_seed(1234)"
   ]
  },
  {
   "cell_type": "code",
   "execution_count": 8,
   "id": "846c18d9-eb48-4f47-bdd5-930d8a8f4f95",
   "metadata": {},
   "outputs": [
    {
     "name": "stdout",
     "output_type": "stream",
     "text": [
      "(60000, 784)\n",
      "(60000, 10)\n",
      "(10000, 784)\n",
      "(10000, 10)\n"
     ]
    }
   ],
   "source": [
    "(X_train, y_train), (X_test, y_test) = tf.keras.datasets.mnist.load_data(\n",
    "            path='mnist.npz'\n",
    "        )\n",
    "\n",
    "size_input   = X_train.shape[1]*X_train.shape[2]\n",
    "size_hidden1 = 256\n",
    "size_hidden2 = 128\n",
    "size_output  = 10\n",
    "\n",
    "X_train = X_train.reshape(X_train.shape[0], X_train.shape[1]*X_train.shape[2])\n",
    "X_test  = X_test.reshape(X_test.shape[0], X_test.shape[1]*X_test.shape[2])\n",
    "\n",
    "y_train = tf.keras.utils.to_categorical(y_train, num_classes=size_output)\n",
    "y_test = tf.keras.utils.to_categorical(y_test, num_classes=size_output)\n",
    "\n",
    "X_train = X_train.astype(float) / 255.0\n",
    "X_test = X_test.astype(float) / 255.0\n",
    "\n",
    "print(X_train.shape)\n",
    "print(y_train.shape)\n",
    "print(X_test.shape)\n",
    "print(y_test.shape)\n",
    "\n"
   ]
  },
  {
   "cell_type": "code",
   "execution_count": 2,
   "id": "06931821-6a52-4ccc-8aa1-a10c562820c3",
   "metadata": {},
   "outputs": [
    {
     "ename": "NameError",
     "evalue": "name 'tf' is not defined",
     "output_type": "error",
     "traceback": [
      "\u001b[0;31m---------------------------------------------------------------------------\u001b[0m",
      "\u001b[0;31mNameError\u001b[0m                                 Traceback (most recent call last)",
      "\u001b[0;32m/tmp/ipykernel_4509/186674195.py\u001b[0m in \u001b[0;36m<module>\u001b[0;34m\u001b[0m\n\u001b[0;32m----> 1\u001b[0;31m \u001b[0mtrain_ds\u001b[0m \u001b[0;34m=\u001b[0m \u001b[0mtf\u001b[0m\u001b[0;34m.\u001b[0m\u001b[0mdata\u001b[0m\u001b[0;34m.\u001b[0m\u001b[0mDataset\u001b[0m\u001b[0;34m.\u001b[0m\u001b[0mfrom_tensor_slices\u001b[0m\u001b[0;34m(\u001b[0m\u001b[0;34m(\u001b[0m\u001b[0mX_train\u001b[0m\u001b[0;34m,\u001b[0m \u001b[0my_train\u001b[0m\u001b[0;34m)\u001b[0m\u001b[0;34m)\u001b[0m\u001b[0;34m.\u001b[0m\u001b[0mbatch\u001b[0m\u001b[0;34m(\u001b[0m\u001b[0;36m50\u001b[0m\u001b[0;34m)\u001b[0m\u001b[0;34m\u001b[0m\u001b[0;34m\u001b[0m\u001b[0m\n\u001b[0m\u001b[1;32m      2\u001b[0m \u001b[0mval_ds\u001b[0m   \u001b[0;34m=\u001b[0m \u001b[0mtf\u001b[0m\u001b[0;34m.\u001b[0m\u001b[0mdata\u001b[0m\u001b[0;34m.\u001b[0m\u001b[0mDataset\u001b[0m\u001b[0;34m.\u001b[0m\u001b[0mfrom_tensor_slices\u001b[0m\u001b[0;34m(\u001b[0m\u001b[0;34m(\u001b[0m\u001b[0mX_val\u001b[0m\u001b[0;34m,\u001b[0m \u001b[0my_val\u001b[0m\u001b[0;34m)\u001b[0m\u001b[0;34m)\u001b[0m\u001b[0;34m.\u001b[0m\u001b[0mbatch\u001b[0m\u001b[0;34m(\u001b[0m\u001b[0;36m30\u001b[0m\u001b[0;34m)\u001b[0m\u001b[0;34m\u001b[0m\u001b[0;34m\u001b[0m\u001b[0m\n\u001b[1;32m      3\u001b[0m \u001b[0mtest_ds\u001b[0m  \u001b[0;34m=\u001b[0m \u001b[0mtf\u001b[0m\u001b[0;34m.\u001b[0m\u001b[0mdata\u001b[0m\u001b[0;34m.\u001b[0m\u001b[0mDataset\u001b[0m\u001b[0;34m.\u001b[0m\u001b[0mfrom_tensor_slices\u001b[0m\u001b[0;34m(\u001b[0m\u001b[0;34m(\u001b[0m\u001b[0mX_test\u001b[0m\u001b[0;34m,\u001b[0m \u001b[0my_test\u001b[0m\u001b[0;34m)\u001b[0m\u001b[0;34m)\u001b[0m\u001b[0;34m.\u001b[0m\u001b[0mbatch\u001b[0m\u001b[0;34m(\u001b[0m\u001b[0;36m15\u001b[0m\u001b[0;34m)\u001b[0m\u001b[0;34m\u001b[0m\u001b[0;34m\u001b[0m\u001b[0m\n",
      "\u001b[0;31mNameError\u001b[0m: name 'tf' is not defined"
     ]
    }
   ],
   "source": [
    "train_ds = tf.data.Dataset.from_tensor_slices((X_train, y_train)).batch(50)\n",
    "test_ds  = tf.data.Dataset.from_tensor_slices((X_test, y_test)).batch(15)"
   ]
  },
  {
   "cell_type": "code",
   "execution_count": 10,
   "id": "b0c58930-9fe4-44c8-8483-c2a5659cc603",
   "metadata": {},
   "outputs": [],
   "source": [
    "class MLP(object):\n",
    "    \n",
    "    def __init__(self, size_input, size_hidden1, size_hidden2, size_output, device=None):\n",
    "       \n",
    "        self.size_input, self.size_hidden1, self.size_hidden2, self.size_output, self.device =\\\n",
    "        size_input, size_hidden1, size_hidden2, size_output, device\n",
    "        \n",
    "        self.W1 = tf.Variable(0.01*tf.random.normal([self.size_input, self.size_hidden1]))\n",
    "        self.b1 = tf.Variable(0.01*tf.random.normal([1, self.size_hidden1]))\n",
    "        \n",
    "        self.W2 = tf.Variable(0.01*tf.random.normal([self.size_hidden1, self.size_hidden2]))\n",
    "        self.b2 = tf.Variable(0.01*tf.random.normal([1, self.size_hidden2]))\n",
    "        \n",
    "        self.W3 = tf.Variable(0.01*tf.random.normal([self.size_hidden2, self.size_output]))\n",
    "        self.b3 = tf.Variable(0.01*tf.random.normal([1, self.size_output]))\n",
    "        \n",
    "        self.varibles = [self.W1, self.b1, self.W2, self.b2, self.W3, self.b3]\n",
    "        \n",
    "        \n",
    "    def forward(self, X):\n",
    "        \n",
    "        if self.device is not None:\n",
    "            with tf.device('gpu:0' if self.device=='gpu' else 'cpu'):\n",
    "                self.y = self.compute_output(X)\n",
    "        else:\n",
    "            self.y = self.compute_output(X)\n",
    "            \n",
    "        return self.y\n",
    "    \n",
    "    def loss(self, y_pred, y_true):\n",
    "        \n",
    "        y_true_tf = tf.cast(tf.reshape(y_true, (-1, self.size_output)), dtype=tf.float32)\n",
    "        y_pred_tf = tf.cast(y_pred, dtype=tf.float32)\n",
    "        \n",
    "        return tf.keras.losses.CategoricalCrossentropy()(y_true_tf, y_pred_tf)\n",
    "    \n",
    "    def backward(self, X_train, y_train):\n",
    "        \n",
    "        optimizer = tf.keras.optimizers.SGD(learning_rate=0.05)\n",
    "        \n",
    "        with tf.GradientTape() as tape:\n",
    "            predicted = self.forward(X_train)\n",
    "            current_loss = self.loss(predicted, y_train)\n",
    "            \n",
    "        grads = tape.gradient(current_loss, self.varibles)\n",
    "        optimizer.apply_gradients(zip(grads, self.varibles))\n",
    "    \n",
    "    def backward_L1Reg(self, X_train, y_train, myLambda):\n",
    "        \n",
    "        optimizer = tf.keras.optimizers.SGD(learning_rate=0.05)\n",
    "        \n",
    "        with tf.GradientTape() as tape:\n",
    "            predicted = self.forward(X_train)\n",
    "            L1 = (myLambda/X_train.shape[0])*tf.abs((tf.reduce_sum(self.W1) + \n",
    "                                                     tf.reduce_sum(self.W2) + \n",
    "                                                     tf.reduce_sum(self.W3)))\n",
    "            \n",
    "            current_loss = self.loss(predicted, y_train)\n",
    "            current_loss += L1\n",
    "            \n",
    "        grads = tape.gradient(current_loss, self.varibles)\n",
    "        optimizer.apply_gradients(zip(grads, self.varibles))\n",
    "        \n",
    "    def compute_output(self, X):\n",
    "        \n",
    "        X_tf = tf.cast(X, dtype=tf.float32)\n",
    "\n",
    "        w1Hat = tf.matmul(X_tf, self.W1) + self.b1\n",
    "        h1Hat = tf.nn.relu(w1Hat)\n",
    "        \n",
    "        w2Hat = tf.matmul(h1Hat, self.W2) + self.b2\n",
    "        h2Hat = tf.nn.relu(w2Hat)\n",
    "        \n",
    "        w3Hat = tf.matmul(h2Hat, self.W3) + self.b3\n",
    "        output = tf.nn.softmax(w3Hat)\n",
    "        \n",
    "        return output"
   ]
  },
  {
   "cell_type": "markdown",
   "id": "d668004b-205c-4b84-bfd9-7b9620d8a147",
   "metadata": {},
   "source": [
    "# Model Training"
   ]
  },
  {
   "cell_type": "code",
   "execution_count": 11,
   "id": "cc7cef91-4c2a-4109-b40b-23a188b27267",
   "metadata": {},
   "outputs": [
    {
     "name": "stdout",
     "output_type": "stream",
     "text": [
      "Number of Epoch = 1 - Average CrossEntropy:= 0.027832185872395835\n",
      "Number of Epoch = 2 - Average CrossEntropy:= 0.007344691467285156\n",
      "Number of Epoch = 3 - Average CrossEntropy:= 0.004818090311686198\n",
      "Number of Epoch = 4 - Average CrossEntropy:= 0.0034687909444173176\n",
      "Number of Epoch = 5 - Average CrossEntropy:= 0.002708165995279948\n",
      "Number of Epoch = 6 - Average CrossEntropy:= 0.0021945823669433594\n",
      "Number of Epoch = 7 - Average CrossEntropy:= 0.0018486012776692709\n",
      "Number of Epoch = 8 - Average CrossEntropy:= 0.0015724979400634765\n",
      "Number of Epoch = 9 - Average CrossEntropy:= 0.0013675230662027996\n",
      "Number of Epoch = 10 - Average CrossEntropy:= 0.0011816466013590495\n",
      "\n",
      "Total time taken (in seconds):  132.04\n"
     ]
    }
   ],
   "source": [
    "NUM_EPOCHS = 10\n",
    "mlp_on_gpu = MLP(size_input, size_hidden1, size_hidden2, size_output, device='gpu')\n",
    "time_start = time.time()\n",
    "RegCoefficient = 0.1\n",
    "\n",
    "for epoch in range(NUM_EPOCHS):\n",
    "    loss_total = tf.zeros([1, 1], dtype=tf.float32)\n",
    "    lt = 0\n",
    "    train_ds = tf.data.Dataset.from_tensor_slices((X_train, y_train)).shuffle(25, seed = epoch*(1234)).batch(50)\n",
    "    \n",
    "    for inputs, outputs in train_ds:\n",
    "        preds = mlp_on_gpu.forward(inputs)\n",
    "        loss_total = loss_total + mlp_on_gpu.loss(preds, outputs)\n",
    "\n",
    "        # lt += mlp_on_gpu.loss(preds, outputs)\n",
    "        mlp_on_gpu.backward(inputs, outputs)\n",
    "        \n",
    "    print(f'Number of Epoch = {epoch+1} - Average CrossEntropy:= {np.sum(loss_total)/X_train.shape[0]}')\n",
    "    \n",
    "time_taken = time.time()-time_start\n",
    "print(f'\\nTotal time taken (in seconds): {time_taken: .2f}')"
   ]
  },
  {
   "cell_type": "markdown",
   "id": "860bdcd3-424f-4530-86e7-312650a7632e",
   "metadata": {},
   "source": [
    "# Inference"
   ]
  },
  {
   "cell_type": "code",
   "execution_count": 12,
   "id": "da524bf5-21d8-4c82-8b92-78b755b851a6",
   "metadata": {},
   "outputs": [
    {
     "name": "stdout",
     "output_type": "stream",
     "text": [
      "accuracy = 0.9733\n"
     ]
    }
   ],
   "source": [
    "test_loss_total = tf.Variable(0, dtype=tf.float32)\n",
    "\n",
    "\n",
    "preds = mlp_on_gpu.forward(X_test)\n",
    "\n",
    "pred = np.argmax(preds, axis=1)\n",
    "y_true= np.argmax(y_test, axis=1)\n",
    "\n",
    "accuracy = (pred==y_true).mean()\n",
    "print(f'accuracy = {accuracy}')\n",
    "    \n"
   ]
  },
  {
   "cell_type": "code",
   "execution_count": null,
   "id": "112fd253-c31d-4448-829e-8b2e15d32518",
   "metadata": {},
   "outputs": [],
   "source": []
  }
 ],
 "metadata": {
  "kernelspec": {
   "display_name": "Python 3 (ipykernel)",
   "language": "python",
   "name": "python3"
  },
  "language_info": {
   "codemirror_mode": {
    "name": "ipython",
    "version": 3
   },
   "file_extension": ".py",
   "mimetype": "text/x-python",
   "name": "python",
   "nbconvert_exporter": "python",
   "pygments_lexer": "ipython3",
   "version": "3.9.5"
  }
 },
 "nbformat": 4,
 "nbformat_minor": 5
}
