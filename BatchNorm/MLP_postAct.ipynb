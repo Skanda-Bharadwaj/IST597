{
 "cells": [
  {
   "cell_type": "code",
   "execution_count": 1,
   "metadata": {
    "id": "_iYcla4kCX67"
   },
   "outputs": [],
   "source": [
    "import os\n",
    "import numpy as np\n",
    "import time\n",
    "import random\n",
    "import tensorflow as tf\n",
    "from tensorflow import keras\n",
    "\n",
    "import matplotlib.pyplot as plt\n",
    "\n",
    "\n",
    "np.random.seed(1234)\n",
    "tf.random.set_seed(1234)"
   ]
  },
  {
   "cell_type": "code",
   "execution_count": 2,
   "metadata": {
    "colab": {
     "base_uri": "https://localhost:8080/"
    },
    "id": "Kgna3kY6CX67",
    "outputId": "db4d9f30-024f-4fcc-c284-a06acb6ad281"
   },
   "outputs": [
    {
     "name": "stderr",
     "output_type": "stream",
     "text": [
      "2022-03-22 14:10:48.680669: I tensorflow/stream_executor/cuda/cuda_gpu_executor.cc:936] successful NUMA node read from SysFS had negative value (-1), but there must be at least one NUMA node, so returning NUMA node zero\n"
     ]
    },
    {
     "data": {
      "text/plain": [
       "[PhysicalDevice(name='/physical_device:GPU:0', device_type='GPU')]"
      ]
     },
     "execution_count": 2,
     "metadata": {},
     "output_type": "execute_result"
    },
    {
     "name": "stderr",
     "output_type": "stream",
     "text": [
      "2022-03-22 14:10:48.686086: I tensorflow/stream_executor/cuda/cuda_gpu_executor.cc:936] successful NUMA node read from SysFS had negative value (-1), but there must be at least one NUMA node, so returning NUMA node zero\n",
      "2022-03-22 14:10:48.686419: I tensorflow/stream_executor/cuda/cuda_gpu_executor.cc:936] successful NUMA node read from SysFS had negative value (-1), but there must be at least one NUMA node, so returning NUMA node zero\n"
     ]
    }
   ],
   "source": [
    "tf.config.list_physical_devices('GPU')"
   ]
  },
  {
   "cell_type": "code",
   "execution_count": 3,
   "metadata": {
    "colab": {
     "base_uri": "https://localhost:8080/",
     "height": 383
    },
    "id": "JodgHy9nCX68",
    "outputId": "3d423aa6-4349-46d8-d995-7013c9e84450"
   },
   "outputs": [
    {
     "data": {
      "image/png": "[encoded data removed]",
      "text/plain": [
       "<Figure size 432x288 with 3 Axes>"
      ]
     },
     "metadata": {
      "needs_background": "light"
     },
     "output_type": "display_data"
    }
   ],
   "source": [
    "(X_train, y_train), (X_test, y_test) = keras.datasets.fashion_mnist.load_data() # Load MNIST or FMNIST\n",
    "assert X_train.shape == (60000, 28, 28)\n",
    "assert X_test.shape  == (10000, 28, 28)\n",
    "assert y_train.shape == (60000,)\n",
    "assert y_test.shape  == (10000,)\n",
    "\n",
    "\n",
    "# Display randomly selected data\n",
    "indices = list(np.random.randint(X_train.shape[0],size=3))\n",
    "for i in range(3):\n",
    "    plt.subplot(1,3,i+1)\n",
    "    plt.imshow(X_train[indices[i]].reshape(28,28), cmap='gray', interpolation='none')\n",
    "    plt.title(\"Index {} Class {}\".format(indices[i], y_train[indices[i]]))\n",
    "    plt.tight_layout()"
   ]
  },
  {
   "cell_type": "code",
   "execution_count": 4,
   "metadata": {
    "colab": {
     "base_uri": "https://localhost:8080/"
    },
    "id": "oIRI-uLoCX69",
    "outputId": "e664546e-92d4-435a-ae37-7f6836d5e783",
    "tags": []
   },
   "outputs": [
    {
     "name": "stdout",
     "output_type": "stream",
     "text": [
      "size of training set is 50000 samples\n",
      "every train example is 28 by 28\n",
      "size of validation set is 10000 samples\n",
      "every validation example is 28 by 28\n",
      "size of training set is 50000 samples\n",
      "every train example has 784 features\n",
      "size of validation set is 10000 samples\n",
      "every validation example has 784 features\n"
     ]
    }
   ],
   "source": [
    "# Split train dataset into train and validation\n",
    "X_val   = X_train[50000:60000]\n",
    "X_train = X_train[0:50000]\n",
    "y_val   = y_train[50000:60000]\n",
    "y_train = y_train[0:50000]\n",
    "\n",
    "print(\"size of training set is\", str(X_train.shape[0]), \"samples\")\n",
    "print(\"every train example is\", str(X_train.shape[1]), \"by\", str(X_train.shape[2]))\n",
    "\n",
    "print(\"size of validation set is\", str(X_val.shape[0]), \"samples\")\n",
    "print(\"every validation example is\", str(X_val.shape[1]), \"by\", str(X_val.shape[2]))\n",
    "\n",
    "X_train = X_train.reshape(50000, 28*28)\n",
    "X_val = X_val.reshape(10000, 28*28)\n",
    "X_test = X_test.reshape(10000, 28*28)\n",
    "\n",
    "print(\"size of training set is\", str(X_train.shape[0]), \"samples\")\n",
    "print(\"every train example has\", str(X_train.shape[1]), \"features\")\n",
    "\n",
    "print(\"size of validation set is\", str(X_val.shape[0]), \"samples\")\n",
    "print(\"every validation example has\", str(X_val.shape[1]), \"features\")\n",
    "\n",
    "# Split dataset into batches\n",
    "#train_ds = tf.data.Dataset.from_tensor_slices((X_train, y_train)).batch(16)\n",
    "#test_ds = tf.data.Dataset.from_tensor_slices((X_test, y_test)).batch(4)"
   ]
  },
  {
   "cell_type": "code",
   "execution_count": 5,
   "metadata": {
    "colab": {
     "base_uri": "https://localhost:8080/"
    },
    "id": "mDyZ8bZjCX69",
    "outputId": "4f18de99-636d-4c05-b085-85e37206b037"
   },
   "outputs": [
    {
     "name": "stdout",
     "output_type": "stream",
     "text": [
      "max:  1.0\n",
      "min:  0.0\n"
     ]
    }
   ],
   "source": [
    "#Normalize Data\n",
    "\n",
    "X_train = X_train/255\n",
    "X_val   = X_val/255\n",
    "X_test  = X_test/255\n",
    "\n",
    "print(f'max: ', np.max(X_train))\n",
    "print(f'min: ', np.min(X_train))"
   ]
  },
  {
   "cell_type": "code",
   "execution_count": 6,
   "metadata": {
    "colab": {
     "base_uri": "https://localhost:8080/"
    },
    "id": "3lIIy313CX69",
    "outputId": "527be8e1-561e-40c7-86ce-069f1955d162"
   },
   "outputs": [
    {
     "name": "stderr",
     "output_type": "stream",
     "text": [
      "2022-03-22 14:10:49.654034: I tensorflow/core/platform/cpu_feature_guard.cc:151] This TensorFlow binary is optimized with oneAPI Deep Neural Network Library (oneDNN) to use the following CPU instructions in performance-critical operations:  AVX2 FMA\n",
      "To enable them in other operations, rebuild TensorFlow with the appropriate compiler flags.\n"
     ]
    },
    {
     "name": "stdout",
     "output_type": "stream",
     "text": [
      "tf.Tensor([10000    10], shape=(2,), dtype=int32)\n"
     ]
    },
    {
     "name": "stderr",
     "output_type": "stream",
     "text": [
      "2022-03-22 14:10:49.654925: I tensorflow/stream_executor/cuda/cuda_gpu_executor.cc:936] successful NUMA node read from SysFS had negative value (-1), but there must be at least one NUMA node, so returning NUMA node zero\n",
      "2022-03-22 14:10:49.656209: I tensorflow/stream_executor/cuda/cuda_gpu_executor.cc:936] successful NUMA node read from SysFS had negative value (-1), but there must be at least one NUMA node, so returning NUMA node zero\n",
      "2022-03-22 14:10:49.657047: I tensorflow/stream_executor/cuda/cuda_gpu_executor.cc:936] successful NUMA node read from SysFS had negative value (-1), but there must be at least one NUMA node, so returning NUMA node zero\n",
      "2022-03-22 14:10:50.023539: I tensorflow/stream_executor/cuda/cuda_gpu_executor.cc:936] successful NUMA node read from SysFS had negative value (-1), but there must be at least one NUMA node, so returning NUMA node zero\n",
      "2022-03-22 14:10:50.023846: I tensorflow/stream_executor/cuda/cuda_gpu_executor.cc:936] successful NUMA node read from SysFS had negative value (-1), but there must be at least one NUMA node, so returning NUMA node zero\n",
      "2022-03-22 14:10:50.024099: I tensorflow/stream_executor/cuda/cuda_gpu_executor.cc:936] successful NUMA node read from SysFS had negative value (-1), but there must be at least one NUMA node, so returning NUMA node zero\n",
      "2022-03-22 14:10:50.024345: I tensorflow/core/common_runtime/gpu/gpu_device.cc:1525] Created device /job:localhost/replica:0/task:0/device:GPU:0 with 6925 MB memory:  -> device: 0, name: NVIDIA GeForce GTX 1070, pci bus id: 0000:01:00.0, compute capability: 6.1\n"
     ]
    }
   ],
   "source": [
    "size_input = X_train.shape[1]\n",
    "\n",
    "size_hidden1 = 128\n",
    "size_hidden2 = 128\n",
    "size_hidden3 = 128\n",
    "\n",
    "size_output = 10\n",
    "\n",
    "number_of_train_examples = X_train.shape[0]\n",
    "number_of_test_examples  = X_test.shape[0]\n",
    "\n",
    "y_train = tf.keras.utils.to_categorical(y_train, num_classes=10) # Other function is tf.one_hot(y_train,depth=10)\n",
    "y_val   = tf.keras.utils.to_categorical(y_val, num_classes=10)\n",
    "y_test  = tf.keras.utils.to_categorical(y_test, num_classes=10)\n",
    "\n",
    "print(tf.shape(y_val))"
   ]
  },
  {
   "cell_type": "code",
   "execution_count": 7,
   "metadata": {
    "id": "obN7WPLpCX69"
   },
   "outputs": [],
   "source": [
    "# Define class to build mlp model\n",
    "class MLP(object):\n",
    "    def __init__(self, size_input, size_hidden1, size_hidden2, size_hidden3, size_output, device=None):\n",
    "        \"\"\"\n",
    "        size_input: int, size of input layer\n",
    "        size_hidden1: int, size of the 1st hidden layer\n",
    "        size_hidden2: int, size of the 2nd hidden layer\n",
    "        size_output: int, size of output layer\n",
    "        device: str or None, either 'cpu' or 'gpu' or None. If None, the device to be used will be decided automatically during Eager Execution\n",
    "        \"\"\"\n",
    "        self.size_input, self.size_hidden1, self.size_hidden2, self.size_hidden3, self.size_output, self.device =\\\n",
    "        size_input, size_hidden1, size_hidden2, size_hidden3, size_output, device\n",
    "\n",
    "        # Initialize weights between input mapping and a layer g(f(x)) = layer\n",
    "        self.W1 = tf.Variable(tf.random.normal([self.size_input, self.size_hidden1],stddev=0.1)) # Xavier(Fan-in fan-out) and Orthogonal\n",
    "        # Initialize biases for hidden layer\n",
    "        self.b1 = tf.Variable(tf.zeros([1, self.size_hidden1])) # 0 or constant(0.01)\n",
    "\n",
    "        # Initialize weights between input layer and 1st hidden layer\n",
    "        self.W2 = tf.Variable(tf.random.normal([self.size_hidden1, self.size_hidden2],stddev=0.1))\n",
    "        # Initialize biases for hidden layer\n",
    "        self.b2 = tf.Variable(tf.zeros([1, self.size_hidden2]))\n",
    "\n",
    "        # Initialize weights between 1st hidden layer and 2nd hidden layer\n",
    "        self.W3 = tf.Variable(tf.random.normal([self.size_hidden2, self.size_hidden3],stddev=0.1))\n",
    "        # Initialize biases for hidden layer\n",
    "        self.b3 = tf.Variable(tf.zeros([1, self.size_hidden3]))\n",
    "\n",
    "         # Initialize weights between 2nd hidden layer and output layer\n",
    "        self.W4 = tf.Variable(tf.random.normal([self.size_hidden3, self.size_output],stddev=0.1))\n",
    "        # Initialize biases for output layer\n",
    "        self.b4 = tf.Variable(tf.zeros([1, self.size_output]))\n",
    "\n",
    "        # Initializing gamma and beta for all the layers for batch norm\n",
    "        self.gamma = {\"1\": tf.Variable(tf.ones(self.W1.shape[-1])),\n",
    "                      \"2\": tf.Variable(tf.ones(self.W2.shape[-1])),\n",
    "                      \"3\": tf.Variable(tf.ones(self.W3.shape[-1]))\n",
    "                      #\"4\": tf.Variable(tf.ones(self.W4.shape[-1]))\n",
    "        }\n",
    "        self.beta  = {\"1\": tf.Variable(tf.zeros(self.W1.shape[-1])),\n",
    "                      \"2\": tf.Variable(tf.zeros(self.W2.shape[-1])),\n",
    "                      \"3\": tf.Variable(tf.zeros(self.W3.shape[-1]))\n",
    "                      #\"4\": tf.Variable(tf.zeros(self.W4.shape[-1]))\n",
    "        }\n",
    "        # Define variables to be updated during backpropagation\n",
    "        self.variables = [self.W1, self.W2, self.W3, self.W4, \n",
    "                          self.b1, self.b2, self.b3, self.b4, \n",
    "                          self.gamma[\"1\"], self.beta[\"1\"], \n",
    "                          self.gamma[\"2\"], self.beta[\"2\"], \n",
    "                          self.gamma[\"3\"], self.beta[\"3\"]]\n",
    "                          #self.gamma[\"4\"], self.beta[\"4\"]]\n",
    "\n",
    "        self.mean = {\"1\": tf.Variable(tf.zeros(self.W1.shape[-1])),\n",
    "                     \"2\": tf.Variable(tf.zeros(self.W2.shape[-1])),\n",
    "                     \"3\": tf.Variable(tf.zeros(self.W3.shape[-1]))\n",
    "                     #\"4\": tf.Variable(tf.zeros(self.W4.shape[-1])),\n",
    "        }\n",
    "        self.var = {\"1\": tf.Variable(tf.zeros(self.W1.shape[-1])),\n",
    "                    \"2\": tf.Variable(tf.zeros(self.W2.shape[-1])),\n",
    "                    \"3\": tf.Variable(tf.zeros(self.W3.shape[-1]))\n",
    "                    #\"4\": tf.Variable(tf.zeros(self.W4.shape[-1])),\n",
    "        }\n",
    "  \n",
    "    def forward(self, X, run):\n",
    "        \"\"\"\n",
    "        forward pass\n",
    "        X: Tensor, inputs\n",
    "        \"\"\"\n",
    "        if self.device is not None:\n",
    "            with tf.device('gpu:0' if self.device=='gpu' else 'cpu'):\n",
    "                if run == \"train\":\n",
    "                    self.y = self.compute_output_train(X)\n",
    "                else:\n",
    "                    self.y = self.compute_output_test(X)\n",
    "        else:\n",
    "            if run == \"train\":\n",
    "                self.y = self.compute_output_train(X)\n",
    "            else:\n",
    "                self.y = self.compute_output_test(X)\n",
    "\n",
    "        return self.y\n",
    "\n",
    "    def loss(self, y_pred, y_true):\n",
    "        '''\n",
    "        y_pred - Tensor of shape (batch_size, size_output)\n",
    "        y_true - Tensor of shape (batch_size, size_output)\n",
    "        '''\n",
    "        #y_true_tf = tf.cast(tf.reshape(y_true, (-1, self.size_output)), dtype=tf.float32)\n",
    "        y_true_tf = tf.cast(y_true, dtype=tf.float32)\n",
    "        y_pred_tf = tf.cast(y_pred, dtype=tf.float32)\n",
    "        cce = tf.keras.losses.CategoricalCrossentropy(from_logits=True)\n",
    "        loss_x = cce(y_true_tf, y_pred_tf)\n",
    "        # Use keras or tf_softmax, both should work for any given model\n",
    "        #loss_x = tf.reduce_mean(tf.nn.softmax_cross_entropy_with_logits(logits=y_pred_tf, labels=y_true_tf))\n",
    "\n",
    "        return loss_x\n",
    "\n",
    "    def backward(self, X_train, y_train, opti):\n",
    "        \"\"\"\n",
    "        backward pass\n",
    "        \"\"\"\n",
    "        optimizer = opti\n",
    "\n",
    "        with tf.GradientTape() as tape:\n",
    "            predicted = self.forward(X_train, \"train\")\n",
    "            current_loss = self.loss(predicted, y_train)\n",
    "\n",
    "        grads = tape.gradient(current_loss, self.variables)\n",
    "        optimizer.apply_gradients(zip(grads, self.variables))\n",
    "        \n",
    "    def batch_norm(self, inputs, layer):\n",
    "        mean, var = tf.nn.moments(inputs, [0])\n",
    "        self.mean[layer] = 0.9*self.mean[layer] + 0.1*mean\n",
    "        self.var[layer]  = 0.9*self.var[layer]  + 0.1*var\n",
    "        \n",
    "        return tf.add(tf.divide(tf.multiply(self.gamma[layer], tf.subtract(inputs, mean)), tf.sqrt(var+1e-8)), self.beta[layer])\n",
    "\n",
    "    def compute_output_train(self, X):\n",
    "        \"\"\"\n",
    "        Custom method to obtain output tensor during forward pass\n",
    "        \"\"\"\n",
    "        # Cast X to float32\n",
    "        X_tf = tf.cast(X, dtype=tf.float32)\n",
    "        #X_tf = X\n",
    "\n",
    "        # Compute values in hidden layers\n",
    "        z1 = tf.matmul(X_tf, self.W1) + self.b1\n",
    "        h1 = tf.nn.relu(z1)\n",
    "        h1 = self.batch_norm(h1, \"1\")\n",
    "\n",
    "        z2 = tf.matmul(h1, self.W2) + self.b2\n",
    "        h2 = tf.nn.relu(z2)\n",
    "        h2 = self.batch_norm(h2, \"2\")\n",
    "\n",
    "        z3 = tf.matmul(h2, self.W3) + self.b3\n",
    "        h3 = tf.nn.relu(z3)\n",
    "        h3 = self.batch_norm(h3, \"3\")\n",
    "\n",
    "        # Compute output\n",
    "        output = tf.matmul(h3, self.W4) + self.b4\n",
    "        #output = self.batch_norm(output, \"4\")\n",
    "        #Now consider two things , First look at inbuild loss functions if they work with softmax or not and then change this \n",
    "        # Second add tf.Softmax(output) and then return this variable\n",
    "        return (output)\n",
    "    \n",
    "    def compute_output_test(self, X):\n",
    "        \"\"\"\n",
    "        Custom method to obtain output tensor during forward pass\n",
    "        \"\"\"\n",
    "        # Cast X to float32\n",
    "        X_tf = tf.cast(X, dtype=tf.float32)\n",
    "        #X_tf = X\n",
    "\n",
    "        # Compute values in hidden layers\n",
    "        z1 = tf.matmul(X_tf, self.W1) + self.b1\n",
    "        h1 = tf.nn.relu(z1)\n",
    "        h1 = tf.add(tf.divide(tf.multiply(self.gamma[\"1\"], tf.subtract(h1, self.mean[\"1\"])), tf.sqrt(self.var[\"1\"]+1e-8)), self.beta[\"1\"])\n",
    "\n",
    "        z2 = tf.matmul(h1, self.W2) + self.b2\n",
    "        h2 = tf.nn.relu(z2)\n",
    "        h2 = tf.add(tf.divide(tf.multiply(self.gamma[\"2\"], tf.subtract(h2, self.mean[\"2\"])), tf.sqrt(self.var[\"2\"]+1e-8)), self.beta[\"2\"])\n",
    "\n",
    "        z3 = tf.matmul(h2, self.W3) + self.b3\n",
    "        h3 = tf.nn.relu(z3)\n",
    "        h3 = tf.add(tf.divide(tf.multiply(self.gamma[\"3\"], tf.subtract(h3, self.mean[\"3\"])), tf.sqrt(self.var[\"3\"]+1e-8)), self.beta[\"3\"])\n",
    "\n",
    "        # Compute output\n",
    "        output = tf.matmul(h3, self.W4) + self.b4\n",
    "\n",
    "        #Now consider two things , First look at inbuild loss functions if they work with softmax or not and then change this \n",
    "        # Second add tf.Softmax(output) and then return this variable\n",
    "        return (output)\n"
   ]
  },
  {
   "cell_type": "code",
   "execution_count": 8,
   "metadata": {
    "colab": {
     "base_uri": "https://localhost:8080/",
     "height": 1000
    },
    "id": "pOnhvVlUCX6-",
    "outputId": "dba83f32-51dc-412a-b36a-4e3a1868d639"
   },
   "outputs": [
    {
     "name": "stdout",
     "output_type": "stream",
     "text": [
      "\n",
      "\n",
      "***************** Running MLP with post-activation Batch Normalization for seed 6697 *****************\n",
      "\n",
      "\n",
      "Train Accuracy: 0.8638\n",
      "Number of Epoch = 1 - Average Cross Entropy:= 0.004050693664550781 \n",
      "\n",
      "Validation Accuracy: 0.8488\n",
      "\n",
      "Train Accuracy: 0.8804\n",
      "Number of Epoch = 2 - Average Cross Entropy:= 0.0029234954833984375 \n",
      "\n",
      "Validation Accuracy: 0.8655\n",
      "\n",
      "Train Accuracy: 0.8915\n",
      "Number of Epoch = 3 - Average Cross Entropy:= 0.0025858731079101563 \n",
      "\n",
      "Validation Accuracy: 0.8717\n",
      "\n",
      "Train Accuracy: 0.8992\n",
      "Number of Epoch = 4 - Average Cross Entropy:= 0.002349191131591797 \n",
      "\n",
      "Validation Accuracy: 0.8737\n",
      "\n",
      "Train Accuracy: 0.9070\n",
      "Number of Epoch = 5 - Average Cross Entropy:= 0.002153983154296875 \n",
      "\n",
      "Validation Accuracy: 0.8787\n",
      "\n",
      "Train Accuracy: 0.9127\n",
      "Number of Epoch = 6 - Average Cross Entropy:= 0.0020170329284667967 \n",
      "\n",
      "Validation Accuracy: 0.8767\n",
      "\n",
      "Train Accuracy: 0.9175\n",
      "Number of Epoch = 7 - Average Cross Entropy:= 0.0018850112915039063 \n",
      "\n",
      "Validation Accuracy: 0.8783\n",
      "\n",
      "Train Accuracy: 0.9224\n",
      "Number of Epoch = 8 - Average Cross Entropy:= 0.0017811859130859376 \n",
      "\n",
      "Validation Accuracy: 0.8764\n",
      "\n",
      "Train Accuracy: 0.9273\n",
      "Number of Epoch = 9 - Average Cross Entropy:= 0.0016485203552246094 \n",
      "\n",
      "Validation Accuracy: 0.8781\n",
      "\n",
      "Train Accuracy: 0.9266\n",
      "Number of Epoch = 10 - Average Cross Entropy:= 0.0015529104614257813 \n",
      "\n",
      "Validation Accuracy: 0.8768\n"
     ]
    },
    {
     "data": {
      "image/png": "[encoded data removed]",
      "text/plain": [
       "<Figure size 432x288 with 1 Axes>"
      ]
     },
     "metadata": {
      "needs_background": "light"
     },
     "output_type": "display_data"
    },
    {
     "name": "stdout",
     "output_type": "stream",
     "text": [
      "\n",
      "Total time taken (in seconds): 157.46\n",
      "Test loss: 0.0171\n",
      "\n",
      "Test Accuracy: 0.86\n",
      "\n",
      "\n",
      "***************** Running MLP with post-activation Batch Normalization for seed 1888 *****************\n",
      "\n",
      "\n",
      "Train Accuracy: 0.8619\n",
      "Number of Epoch = 1 - Average Cross Entropy:= 0.004101782836914062 \n",
      "\n",
      "Validation Accuracy: 0.8501\n",
      "\n",
      "Train Accuracy: 0.8810\n",
      "Number of Epoch = 2 - Average Cross Entropy:= 0.00294813720703125 \n",
      "\n",
      "Validation Accuracy: 0.8643\n",
      "\n",
      "Train Accuracy: 0.8911\n",
      "Number of Epoch = 3 - Average Cross Entropy:= 0.002599829406738281 \n",
      "\n",
      "Validation Accuracy: 0.8710\n",
      "\n",
      "Train Accuracy: 0.9006\n",
      "Number of Epoch = 4 - Average Cross Entropy:= 0.0023720100402832033 \n",
      "\n",
      "Validation Accuracy: 0.8765\n",
      "\n",
      "Train Accuracy: 0.9068\n",
      "Number of Epoch = 5 - Average Cross Entropy:= 0.002190786895751953 \n",
      "\n",
      "Validation Accuracy: 0.8764\n",
      "\n",
      "Train Accuracy: 0.9142\n",
      "Number of Epoch = 6 - Average Cross Entropy:= 0.0020375729370117187 \n",
      "\n",
      "Validation Accuracy: 0.8761\n",
      "\n",
      "Train Accuracy: 0.9196\n",
      "Number of Epoch = 7 - Average Cross Entropy:= 0.001903392333984375 \n",
      "\n",
      "Validation Accuracy: 0.8782\n",
      "\n",
      "Train Accuracy: 0.9222\n",
      "Number of Epoch = 8 - Average Cross Entropy:= 0.0017770565795898437 \n",
      "\n",
      "Validation Accuracy: 0.8769\n",
      "\n",
      "Train Accuracy: 0.9268\n",
      "Number of Epoch = 9 - Average Cross Entropy:= 0.0016511749267578125 \n",
      "\n",
      "Validation Accuracy: 0.8777\n",
      "\n",
      "Train Accuracy: 0.9275\n",
      "Number of Epoch = 10 - Average Cross Entropy:= 0.0015646278381347657 \n",
      "\n",
      "Validation Accuracy: 0.8780\n"
     ]
    },
    {
     "data": {
      "image/png": "[encoded data removed]",
      "text/plain": [
       "<Figure size 432x288 with 1 Axes>"
      ]
     },
     "metadata": {
      "needs_background": "light"
     },
     "output_type": "display_data"
    },
    {
     "name": "stdout",
     "output_type": "stream",
     "text": [
      "\n",
      "Total time taken (in seconds): 149.71\n",
      "Test loss: 0.0164\n",
      "\n",
      "Test Accuracy: 0.87\n",
      "\n",
      "\n",
      "***************** Running MLP with post-activation Batch Normalization for seed 8760 *****************\n",
      "\n",
      "\n",
      "Train Accuracy: 0.8640\n",
      "Number of Epoch = 1 - Average Cross Entropy:= 0.004108681640625 \n",
      "\n",
      "Validation Accuracy: 0.8498\n",
      "\n",
      "Train Accuracy: 0.8813\n",
      "Number of Epoch = 2 - Average Cross Entropy:= 0.0029310879516601562 \n",
      "\n",
      "Validation Accuracy: 0.8655\n",
      "\n",
      "Train Accuracy: 0.8957\n",
      "Number of Epoch = 3 - Average Cross Entropy:= 0.0025746478271484376 \n",
      "\n",
      "Validation Accuracy: 0.8714\n",
      "\n",
      "Train Accuracy: 0.9031\n",
      "Number of Epoch = 4 - Average Cross Entropy:= 0.0023422163391113283 \n",
      "\n",
      "Validation Accuracy: 0.8753\n",
      "\n",
      "Train Accuracy: 0.9084\n",
      "Number of Epoch = 5 - Average Cross Entropy:= 0.002151478729248047 \n",
      "\n",
      "Validation Accuracy: 0.8774\n",
      "\n",
      "Train Accuracy: 0.9136\n",
      "Number of Epoch = 6 - Average Cross Entropy:= 0.0019973666381835936 \n",
      "\n",
      "Validation Accuracy: 0.8785\n",
      "\n",
      "Train Accuracy: 0.9186\n",
      "Number of Epoch = 7 - Average Cross Entropy:= 0.0018560171508789063 \n",
      "\n",
      "Validation Accuracy: 0.8801\n",
      "\n",
      "Train Accuracy: 0.9253\n",
      "Number of Epoch = 8 - Average Cross Entropy:= 0.001741551055908203 \n",
      "\n",
      "Validation Accuracy: 0.8797\n",
      "\n",
      "Train Accuracy: 0.9259\n",
      "Number of Epoch = 9 - Average Cross Entropy:= 0.0016267584228515624 \n",
      "\n",
      "Validation Accuracy: 0.8805\n",
      "\n",
      "Train Accuracy: 0.9297\n",
      "Number of Epoch = 10 - Average Cross Entropy:= 0.0015190045166015625 \n",
      "\n",
      "Validation Accuracy: 0.8816\n"
     ]
    },
    {
     "data": {
      "image/png": "[encoded data removed]",
      "text/plain": [
       "<Figure size 432x288 with 1 Axes>"
      ]
     },
     "metadata": {
      "needs_background": "light"
     },
     "output_type": "display_data"
    },
    {
     "name": "stdout",
     "output_type": "stream",
     "text": [
      "\n",
      "Total time taken (in seconds): 149.31\n",
      "Test loss: 0.0181\n",
      "\n",
      "Test Accuracy: 0.87\n"
     ]
    }
   ],
   "source": [
    "numTrials = 3\n",
    "seeds = random.sample(range(1000, 9999), numTrials)\n",
    "for trail in range(numTrials):\n",
    "    \n",
    "    seed = seeds[trail]\n",
    "    \n",
    "    print(f'\\n\\n***************** Running MLP with post-activation Batch Normalization for seed {seed} *****************\\n')\n",
    "    # Set number of epochs\n",
    "    NUM_EPOCHS = 10\n",
    "\n",
    "    # Initialize model using CPU\n",
    "    mlp_on_gpu = MLP(size_input, size_hidden1, size_hidden2, size_hidden3, size_output, device='gpu')\n",
    "\n",
    "    time_start = time.time()\n",
    "    opti = tf.keras.optimizers.SGD(learning_rate = 0.1)\n",
    "\n",
    "    for epoch in range(NUM_EPOCHS):\n",
    "        loss_total = tf.zeros([1,1], dtype=tf.float32)\n",
    "        lt = 0\n",
    "\n",
    "        train_ds = tf.data.Dataset.from_tensor_slices((X_train, y_train)).shuffle(25, seed=epoch*(seed)).batch(128)\n",
    "        kz = 0\n",
    "        accuracy_z = 0.0\n",
    "        cur_train_acc = 0.0\n",
    "        for inputs, outputs in train_ds:\n",
    "            qw, tr = tf.shape(inputs)\n",
    "            kz = kz + 1\n",
    "            preds = mlp_on_gpu.forward(inputs, \"train\") \n",
    "            loss_total = loss_total + mlp_on_gpu.loss(preds, outputs)\n",
    "            lt = lt + mlp_on_gpu.loss(preds, outputs)\n",
    "            mlp_on_gpu.backward(inputs, outputs, opti)\n",
    "\n",
    "        preds = mlp_on_gpu.forward(X_train, \"train\")\n",
    "        # Get probs, remember we only have logits from our forward function, we need to apply softmax on top of it to get probs\n",
    "        preds = tf.nn.softmax(preds)\n",
    "        correct_prediction = tf.equal(tf.argmax(preds, 1), tf.argmax(y_train, 1))\n",
    "        accuracy_z = accuracy_z + tf.reduce_mean(tf.cast(correct_prediction, \"float\"))\n",
    "        cur_train_acc += accuracy_z.numpy()\n",
    "        ds = cur_train_acc\n",
    "        print('\\nTrain Accuracy: {:.4f}'.format(ds))\n",
    "        print('Number of Epoch = {} - Average Cross Entropy:= {} '.format(epoch + 1, np.sum(loss_total) / X_train.shape[0]))\n",
    "        preds_val = mlp_on_gpu.forward(X_val, \"train\")\n",
    "        preds_val = tf.nn.softmax(preds_val)\n",
    "        correct_prediction = tf.equal(tf.argmax(preds_val, 1), tf.argmax(y_val, 1))\n",
    "\n",
    "        # Calculate accuracy\n",
    "        accuracy = tf.reduce_mean(tf.cast(correct_prediction, \"float\"))\n",
    "        cur_val_acc = accuracy.numpy()\n",
    "\n",
    "        print('\\nValidation Accuracy: {:.4f}'.format(cur_val_acc))\n",
    "\n",
    "        plt.plot(epoch + 1, np.sum(loss_total) / X_train.shape[0], 'go')\n",
    "\n",
    "\n",
    "    time_taken = time.time() - time_start\n",
    "    plt.show()\n",
    "    # Validate model\n",
    "\n",
    "\n",
    "\n",
    "    print('\\nTotal time taken (in seconds): {:.2f}'.format(time_taken))\n",
    "    #For per epoch_time = Total_Time / Number_of_epochs\n",
    "\n",
    "    test_loss_total = tf.Variable(0, dtype=tf.float32)\n",
    "    correct_prediction = tf.Variable(0, dtype=tf.float32)\n",
    "\n",
    "\n",
    "    test_ds = tf.data.Dataset.from_tensor_slices((X_test, y_test)).batch(24)\n",
    "\n",
    "\n",
    "    #test_loss_total = 0.0\n",
    "    for inputs, outputs in test_ds:\n",
    "        preds = mlp_on_gpu.forward(inputs, \"test\")\n",
    "        test_loss_total = test_loss_total + mlp_on_gpu.loss(preds, outputs)\n",
    "    print('Test loss: {:.4f}'.format(np.sum(test_loss_total.numpy()) / X_test.shape[0]))\n",
    "\n",
    "    # Test model\n",
    "    preds_test = mlp_on_gpu.forward(X_test, \"test\")\n",
    "    preds_test = tf.nn.softmax(preds_test)\n",
    "    correct_prediction = tf.equal(tf.argmax(preds_test, 1), tf.argmax(y_test, 1))\n",
    "\n",
    "    # Calculate accuracy\n",
    "    accuracy = tf.reduce_mean(tf.cast(correct_prediction, \"float\"))\n",
    "    cur_test_acc = accuracy.numpy()\n",
    "    print('\\nTest Accuracy: {:.2f}'.format(cur_test_acc))"
   ]
  },
  {
   "cell_type": "code",
   "execution_count": null,
   "metadata": {},
   "outputs": [],
   "source": []
  }
 ],
 "metadata": {
  "colab": {
   "collapsed_sections": [],
   "include_colab_link": true,
   "name": "MLP_Fmnist_Saver_optimizer.ipynb",
   "provenance": []
  },
  "kernelspec": {
   "display_name": "Python 3 (ipykernel)",
   "language": "python",
   "name": "python3"
  },
  "language_info": {
   "codemirror_mode": {
    "name": "ipython",
    "version": 3
   },
   "file_extension": ".py",
   "mimetype": "text/x-python",
   "name": "python",
   "nbconvert_exporter": "python",
   "pygments_lexer": "ipython3",
   "version": "3.9.5"
  }
 },
 "nbformat": 4,
 "nbformat_minor": 4
}
